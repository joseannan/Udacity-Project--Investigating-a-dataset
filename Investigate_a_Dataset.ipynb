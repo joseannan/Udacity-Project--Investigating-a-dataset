{
 "cells": [
  {
   "cell_type": "markdown",
   "metadata": {},
   "source": [
    "\n",
    "# Project: GAPMINDER DATA ANALYSIS\n",
    "\n",
    "## Table of Contents\n",
    "<ul>\n",
    "<li><a href=\"#intro\">Introduction</a></li>\n",
    "<li><a href=\"#wrangling\">Data Wrangling</a></li>\n",
    "<li><a href=\"#eda\">Exploratory Data Analysis</a></li>\n",
    "<li><a href=\"#conclusions\">Conclusions</a></li>\n",
    "</ul>"
   ]
  },
  {
   "cell_type": "markdown",
   "metadata": {},
   "source": [
    "<a id='intro'></a>\n",
    "## Introduction\n",
    "\n",
    "### Dataset Description \n",
    "\n",
    "> Gapminder has gathered information on how people live their lives from several countries across the globe based on several indicators such as income, population, life expectancy, child mortality, total fertility rate etc. For my analysis,I have chosen 3 indicators namely;income per person, life expectancy and child mortality.\n",
    "These indicators are in 3 different csv datasets which I will merge to form one dataframe for my analysis.\n",
    "\n",
    ">The datasets originally have columns being country name and each year for each column.However,it will be reshaped and merged to have columns:\n",
    ">- country\n",
    ">- year\n",
    ">- income_per_person (in dollars)\n",
    ">- life_expectancy (years)\n",
    ">- child_mortality (0-5 years dying per 1000 born)\n",
    " \n",
    "\n",
    "\n",
    "### Questions for Analysis\n",
    ">- Have certain continents of the world been growing in child mortality,income per person,life expectancy?\n",
    ">- Which continents have the highest child mortality rates,life expectancy and income per person?\n",
    ">- Which continent has the lowest child mortality rates,life expectancy and income per person?\n",
    ">- What is the average child mortality rate of each continent?\n",
    ">- What is the average life expectancy of each continent?\n",
    ">- What is the average income per person of each continent?\n",
    ">- Is there any relation between income and life expectancy?\n",
    ">- Is there any relation between income and child mortality?. "
   ]
  },
  {
   "cell_type": "code",
   "execution_count": 1,
   "metadata": {},
   "outputs": [],
   "source": [
    "#import necessary packages for the analysis\n",
    "import pandas as pd\n",
    "import numpy as np\n",
    "import matplotlib.pyplot as plt\n",
    "%matplotlib inline\n",
    "import seaborn as sns\n",
    "import pycountry_convert as pc"
   ]
  },
  {
   "cell_type": "markdown",
   "metadata": {},
   "source": [
    "<a id='wrangling'></a>\n",
    "## Data Wrangling\n"
   ]
  },
  {
   "cell_type": "code",
   "execution_count": 2,
   "metadata": {},
   "outputs": [],
   "source": [
    "# Load the 3 datasets \n",
    "df_gdp = pd.read_csv('income_per_person_gdppercapita_ppp_inflation_adjusted.csv')\n",
    "df_life = pd.read_csv('life_expectancy_years.csv')\n",
    "df_mort = pd.read_csv('child_mortality_0_5_year_olds_dying_per_1000_born (2).csv')\n"
   ]
  },
  {
   "cell_type": "markdown",
   "metadata": {},
   "source": [
    ">Views the characteristics of the 3 different datasets to know the number of samples, columns and data types of each dataset in order to put them in a shape good enough to be merged to form one dataframe for further cleaning or manipulation."
   ]
  },
  {
   "cell_type": "code",
   "execution_count": 74,
   "metadata": {},
   "outputs": [
    {
     "data": {
      "text/html": [
       "<div>\n",
       "<style scoped>\n",
       "    .dataframe tbody tr th:only-of-type {\n",
       "        vertical-align: middle;\n",
       "    }\n",
       "\n",
       "    .dataframe tbody tr th {\n",
       "        vertical-align: top;\n",
       "    }\n",
       "\n",
       "    .dataframe thead th {\n",
       "        text-align: right;\n",
       "    }\n",
       "</style>\n",
       "<table border=\"1\" class=\"dataframe\">\n",
       "  <thead>\n",
       "    <tr style=\"text-align: right;\">\n",
       "      <th></th>\n",
       "      <th>country</th>\n",
       "      <th>2001</th>\n",
       "      <th>2002</th>\n",
       "      <th>2003</th>\n",
       "      <th>2004</th>\n",
       "      <th>2005</th>\n",
       "      <th>2006</th>\n",
       "      <th>2007</th>\n",
       "      <th>2008</th>\n",
       "      <th>2009</th>\n",
       "      <th>...</th>\n",
       "      <th>2013</th>\n",
       "      <th>2014</th>\n",
       "      <th>2015</th>\n",
       "      <th>2016</th>\n",
       "      <th>2017</th>\n",
       "      <th>2018</th>\n",
       "      <th>2019</th>\n",
       "      <th>2020</th>\n",
       "      <th>2021</th>\n",
       "      <th>2022</th>\n",
       "    </tr>\n",
       "  </thead>\n",
       "  <tbody>\n",
       "    <tr>\n",
       "      <th>0</th>\n",
       "      <td>Afghanistan</td>\n",
       "      <td>563</td>\n",
       "      <td>1190</td>\n",
       "      <td>1240</td>\n",
       "      <td>1200</td>\n",
       "      <td>1290</td>\n",
       "      <td>1320</td>\n",
       "      <td>1460</td>\n",
       "      <td>1480</td>\n",
       "      <td>1760</td>\n",
       "      <td>...</td>\n",
       "      <td>2120</td>\n",
       "      <td>2100</td>\n",
       "      <td>2070</td>\n",
       "      <td>2060</td>\n",
       "      <td>2060</td>\n",
       "      <td>2030</td>\n",
       "      <td>2070</td>\n",
       "      <td>1920</td>\n",
       "      <td>1950</td>\n",
       "      <td>1990</td>\n",
       "    </tr>\n",
       "    <tr>\n",
       "      <th>1</th>\n",
       "      <td>Angola</td>\n",
       "      <td>2490</td>\n",
       "      <td>2900</td>\n",
       "      <td>3120</td>\n",
       "      <td>3520</td>\n",
       "      <td>4270</td>\n",
       "      <td>5560</td>\n",
       "      <td>6920</td>\n",
       "      <td>7820</td>\n",
       "      <td>7750</td>\n",
       "      <td>...</td>\n",
       "      <td>8140</td>\n",
       "      <td>8240</td>\n",
       "      <td>8040</td>\n",
       "      <td>7570</td>\n",
       "      <td>7310</td>\n",
       "      <td>6930</td>\n",
       "      <td>6670</td>\n",
       "      <td>6220</td>\n",
       "      <td>6060</td>\n",
       "      <td>6020</td>\n",
       "    </tr>\n",
       "    <tr>\n",
       "      <th>2</th>\n",
       "      <td>Albania</td>\n",
       "      <td>6460</td>\n",
       "      <td>6780</td>\n",
       "      <td>7180</td>\n",
       "      <td>7610</td>\n",
       "      <td>8070</td>\n",
       "      <td>8600</td>\n",
       "      <td>9180</td>\n",
       "      <td>9940</td>\n",
       "      <td>10.3k</td>\n",
       "      <td>...</td>\n",
       "      <td>11.4k</td>\n",
       "      <td>11.6k</td>\n",
       "      <td>11.9k</td>\n",
       "      <td>12.3k</td>\n",
       "      <td>12.8k</td>\n",
       "      <td>13.4k</td>\n",
       "      <td>13.7k</td>\n",
       "      <td>13.3k</td>\n",
       "      <td>13.9k</td>\n",
       "      <td>14.5k</td>\n",
       "    </tr>\n",
       "  </tbody>\n",
       "</table>\n",
       "<p>3 rows × 23 columns</p>\n",
       "</div>"
      ],
      "text/plain": [
       "       country  2001  2002  2003  2004  2005  2006  2007  2008   2009  ...  \\\n",
       "0  Afghanistan   563  1190  1240  1200  1290  1320  1460  1480   1760  ...   \n",
       "1       Angola  2490  2900  3120  3520  4270  5560  6920  7820   7750  ...   \n",
       "2      Albania  6460  6780  7180  7610  8070  8600  9180  9940  10.3k  ...   \n",
       "\n",
       "    2013   2014   2015   2016   2017   2018   2019   2020   2021   2022  \n",
       "0   2120   2100   2070   2060   2060   2030   2070   1920   1950   1990  \n",
       "1   8140   8240   8040   7570   7310   6930   6670   6220   6060   6020  \n",
       "2  11.4k  11.6k  11.9k  12.3k  12.8k  13.4k  13.7k  13.3k  13.9k  14.5k  \n",
       "\n",
       "[3 rows x 23 columns]"
      ]
     },
     "execution_count": 74,
     "metadata": {},
     "output_type": "execute_result"
    }
   ],
   "source": [
    "df_gdp.head(3)"
   ]
  },
  {
   "cell_type": "code",
   "execution_count": 3,
   "metadata": {},
   "outputs": [
    {
     "name": "stdout",
     "output_type": "stream",
     "text": [
      "<class 'pandas.core.frame.DataFrame'>\n",
      "RangeIndex: 195 entries, 0 to 194\n",
      "Columns: 252 entries, country to 2050\n",
      "dtypes: int64(103), object(149)\n",
      "memory usage: 384.0+ KB\n"
     ]
    }
   ],
   "source": [
    "# find datatypes and columns in income_per_person(gdp)dataset\n",
    "df_gdp.info()"
   ]
  },
  {
   "cell_type": "code",
   "execution_count": 4,
   "metadata": {},
   "outputs": [
    {
     "data": {
      "text/plain": [
       "(195, 252)"
      ]
     },
     "execution_count": 4,
     "metadata": {},
     "output_type": "execute_result"
    }
   ],
   "source": [
    "#number of columns and rows in income_per_person(gdp) dataset\n",
    "df_gdp.shape"
   ]
  },
  {
   "cell_type": "code",
   "execution_count": 5,
   "metadata": {},
   "outputs": [
    {
     "data": {
      "text/plain": [
       "0"
      ]
     },
     "execution_count": 5,
     "metadata": {},
     "output_type": "execute_result"
    }
   ],
   "source": [
    "#find the number of duplicates in income_per_person(gdp) dataset\n",
    "sum(df_gdp.duplicated())"
   ]
  },
  {
   "cell_type": "markdown",
   "metadata": {},
   "source": [
    "**Observation**\n",
    "- There are 252 columns, from country to year 2050 in this dataset\n",
    "- This dataset has 103 columns to be integer datatype and 149 columns with string \n",
    "- There 195 rows and no duplicates in this dataset"
   ]
  },
  {
   "cell_type": "code",
   "execution_count": 6,
   "metadata": {},
   "outputs": [
    {
     "name": "stdout",
     "output_type": "stream",
     "text": [
      "<class 'pandas.core.frame.DataFrame'>\n",
      "RangeIndex: 195 entries, 0 to 194\n",
      "Columns: 302 entries, country to 2100\n",
      "dtypes: float64(301), object(1)\n",
      "memory usage: 460.2+ KB\n"
     ]
    }
   ],
   "source": [
    "# find datatypes and columns in life expectancy dataset\n",
    "df_life.info()"
   ]
  },
  {
   "cell_type": "code",
   "execution_count": 7,
   "metadata": {},
   "outputs": [
    {
     "data": {
      "text/plain": [
       "(195, 302)"
      ]
     },
     "execution_count": 7,
     "metadata": {},
     "output_type": "execute_result"
    }
   ],
   "source": [
    "#number of columns and rows in life expectancy dataset\n",
    "df_life.shape"
   ]
  },
  {
   "cell_type": "code",
   "execution_count": 8,
   "metadata": {},
   "outputs": [
    {
     "data": {
      "text/plain": [
       "0"
      ]
     },
     "execution_count": 8,
     "metadata": {},
     "output_type": "execute_result"
    }
   ],
   "source": [
    "#find the number of duplicates in life expectancy dataset\n",
    "sum(df_life.duplicated())"
   ]
  },
  {
   "cell_type": "markdown",
   "metadata": {},
   "source": [
    "**Observation**\n",
    "- There are 302 columns, from country to year 2100 in this dataset\n",
    "- This dataset has 301 columns to be float datatype and 1 column with string \n",
    "- There 195 rows and no duplicates in this dataset"
   ]
  },
  {
   "cell_type": "code",
   "execution_count": 9,
   "metadata": {},
   "outputs": [
    {
     "name": "stdout",
     "output_type": "stream",
     "text": [
      "<class 'pandas.core.frame.DataFrame'>\n",
      "RangeIndex: 197 entries, 0 to 196\n",
      "Columns: 302 entries, country to 2100\n",
      "dtypes: float64(301), object(1)\n",
      "memory usage: 464.9+ KB\n"
     ]
    }
   ],
   "source": [
    "# find datatypes and columns in child mortality dataset\n",
    "df_mort.info()"
   ]
  },
  {
   "cell_type": "code",
   "execution_count": 10,
   "metadata": {},
   "outputs": [
    {
     "data": {
      "text/plain": [
       "(197, 302)"
      ]
     },
     "execution_count": 10,
     "metadata": {},
     "output_type": "execute_result"
    }
   ],
   "source": [
    "#number of columns and rows in child mortality dataset\n",
    "df_mort.shape"
   ]
  },
  {
   "cell_type": "code",
   "execution_count": 11,
   "metadata": {},
   "outputs": [
    {
     "data": {
      "text/plain": [
       "0"
      ]
     },
     "execution_count": 11,
     "metadata": {},
     "output_type": "execute_result"
    }
   ],
   "source": [
    "#find the number of duplicates in child mortality dataset\n",
    "sum(df_mort.duplicated())"
   ]
  },
  {
   "cell_type": "markdown",
   "metadata": {},
   "source": [
    "**Observation**\n",
    "- There are 302 columns, from country to year 2100 in this dataset\n",
    "- This dataset has 301 columns to be float datatype and 1 column with string \n",
    "- There 197 rows and no duplicates in this dataset"
   ]
  },
  {
   "cell_type": "markdown",
   "metadata": {},
   "source": [
    "\n",
    "## Data Cleaning\n"
   ]
  },
  {
   "cell_type": "markdown",
   "metadata": {},
   "source": [
    ">The following code cells look at: \n",
    ">- Dropping the years of each dataset from 2023 to 2100/2050 and from 1799 to 2000 so that all datasets have years starting at 2001 and ending at 2022.\n",
    ">- Reshaping each dataset to have columns: country, year, life_expectancy/income_per_person/child_mortality.\n",
    "         \n",
    ">This is to make the datasets have:\n",
    ">- the same years as well as to narrow down the years for analysis.\n",
    ">- structure or shape to make it easy to merge and analyse."
   ]
  },
  {
   "cell_type": "code",
   "execution_count": 12,
   "metadata": {},
   "outputs": [],
   "source": [
    "#drop years income per person dataset from 2023 to 2050\n",
    "df_gdp.drop(df_gdp.iloc[:,224:252], axis=1, inplace=True)"
   ]
  },
  {
   "cell_type": "code",
   "execution_count": 13,
   "metadata": {},
   "outputs": [],
   "source": [
    "#drop years from 1799 to 2000\n",
    "df_gdp.drop(df_gdp.iloc[:,1:202], axis=1, inplace=True)"
   ]
  },
  {
   "cell_type": "code",
   "execution_count": 14,
   "metadata": {},
   "outputs": [],
   "source": [
    "#drop years of life expaectancy dataset from 2023 to 2100 \n",
    "df_life.drop(df_life.iloc[:,224:302], axis=1, inplace=True)"
   ]
  },
  {
   "cell_type": "code",
   "execution_count": 15,
   "metadata": {},
   "outputs": [],
   "source": [
    "#drop years from 1799 to 2000\n",
    "df_life.drop(df_life.iloc[:,1:202], axis=1, inplace=True)"
   ]
  },
  {
   "cell_type": "code",
   "execution_count": 16,
   "metadata": {},
   "outputs": [],
   "source": [
    "#drop years of child mortality dataset from 2023 to 2100\n",
    "df_mort.drop(df_mort.iloc[:,224:302], axis=1, inplace=True)"
   ]
  },
  {
   "cell_type": "code",
   "execution_count": 17,
   "metadata": {},
   "outputs": [],
   "source": [
    "#drop years from 1799 to 2000\n",
    "df_mort.drop(df_mort.iloc[:,1:202], axis=1, inplace=True)"
   ]
  },
  {
   "cell_type": "code",
   "execution_count": 18,
   "metadata": {},
   "outputs": [],
   "source": [
    "#rehape income dataframe to columns; country, year and income_per_person\n",
    "df_gdp1=df_gdp.melt(id_vars='country',var_name= 'year', value_name= 'income_per_person')"
   ]
  },
  {
   "cell_type": "code",
   "execution_count": 19,
   "metadata": {},
   "outputs": [
    {
     "data": {
      "text/html": [
       "<div>\n",
       "<style scoped>\n",
       "    .dataframe tbody tr th:only-of-type {\n",
       "        vertical-align: middle;\n",
       "    }\n",
       "\n",
       "    .dataframe tbody tr th {\n",
       "        vertical-align: top;\n",
       "    }\n",
       "\n",
       "    .dataframe thead th {\n",
       "        text-align: right;\n",
       "    }\n",
       "</style>\n",
       "<table border=\"1\" class=\"dataframe\">\n",
       "  <thead>\n",
       "    <tr style=\"text-align: right;\">\n",
       "      <th></th>\n",
       "      <th>country</th>\n",
       "      <th>year</th>\n",
       "      <th>income_per_person</th>\n",
       "    </tr>\n",
       "  </thead>\n",
       "  <tbody>\n",
       "    <tr>\n",
       "      <th>0</th>\n",
       "      <td>Afghanistan</td>\n",
       "      <td>2001</td>\n",
       "      <td>563</td>\n",
       "    </tr>\n",
       "    <tr>\n",
       "      <th>1</th>\n",
       "      <td>Angola</td>\n",
       "      <td>2001</td>\n",
       "      <td>2490</td>\n",
       "    </tr>\n",
       "    <tr>\n",
       "      <th>2</th>\n",
       "      <td>Albania</td>\n",
       "      <td>2001</td>\n",
       "      <td>6460</td>\n",
       "    </tr>\n",
       "    <tr>\n",
       "      <th>3</th>\n",
       "      <td>Andorra</td>\n",
       "      <td>2001</td>\n",
       "      <td>35.5k</td>\n",
       "    </tr>\n",
       "    <tr>\n",
       "      <th>4</th>\n",
       "      <td>United Arab Emirates</td>\n",
       "      <td>2001</td>\n",
       "      <td>71.8k</td>\n",
       "    </tr>\n",
       "  </tbody>\n",
       "</table>\n",
       "</div>"
      ],
      "text/plain": [
       "                country  year income_per_person\n",
       "0           Afghanistan  2001               563\n",
       "1                Angola  2001              2490\n",
       "2               Albania  2001              6460\n",
       "3               Andorra  2001             35.5k\n",
       "4  United Arab Emirates  2001             71.8k"
      ]
     },
     "execution_count": 19,
     "metadata": {},
     "output_type": "execute_result"
    }
   ],
   "source": [
    "#check shape of dataframe and check that year starts from 2100\n",
    "df_gdp1.head()"
   ]
  },
  {
   "cell_type": "code",
   "execution_count": 20,
   "metadata": {},
   "outputs": [
    {
     "data": {
      "text/html": [
       "<div>\n",
       "<style scoped>\n",
       "    .dataframe tbody tr th:only-of-type {\n",
       "        vertical-align: middle;\n",
       "    }\n",
       "\n",
       "    .dataframe tbody tr th {\n",
       "        vertical-align: top;\n",
       "    }\n",
       "\n",
       "    .dataframe thead th {\n",
       "        text-align: right;\n",
       "    }\n",
       "</style>\n",
       "<table border=\"1\" class=\"dataframe\">\n",
       "  <thead>\n",
       "    <tr style=\"text-align: right;\">\n",
       "      <th></th>\n",
       "      <th>country</th>\n",
       "      <th>year</th>\n",
       "      <th>income_per_person</th>\n",
       "    </tr>\n",
       "  </thead>\n",
       "  <tbody>\n",
       "    <tr>\n",
       "      <th>4283</th>\n",
       "      <td>Vietnam</td>\n",
       "      <td>2022</td>\n",
       "      <td>9190</td>\n",
       "    </tr>\n",
       "    <tr>\n",
       "      <th>4284</th>\n",
       "      <td>Vanuatu</td>\n",
       "      <td>2022</td>\n",
       "      <td>2860</td>\n",
       "    </tr>\n",
       "    <tr>\n",
       "      <th>4285</th>\n",
       "      <td>Samoa</td>\n",
       "      <td>2022</td>\n",
       "      <td>5770</td>\n",
       "    </tr>\n",
       "    <tr>\n",
       "      <th>4286</th>\n",
       "      <td>Yemen</td>\n",
       "      <td>2022</td>\n",
       "      <td>2370</td>\n",
       "    </tr>\n",
       "    <tr>\n",
       "      <th>4287</th>\n",
       "      <td>South Africa</td>\n",
       "      <td>2022</td>\n",
       "      <td>11.7k</td>\n",
       "    </tr>\n",
       "    <tr>\n",
       "      <th>4288</th>\n",
       "      <td>Zambia</td>\n",
       "      <td>2022</td>\n",
       "      <td>3110</td>\n",
       "    </tr>\n",
       "    <tr>\n",
       "      <th>4289</th>\n",
       "      <td>Zimbabwe</td>\n",
       "      <td>2022</td>\n",
       "      <td>2640</td>\n",
       "    </tr>\n",
       "  </tbody>\n",
       "</table>\n",
       "</div>"
      ],
      "text/plain": [
       "           country  year income_per_person\n",
       "4283       Vietnam  2022              9190\n",
       "4284       Vanuatu  2022              2860\n",
       "4285         Samoa  2022              5770\n",
       "4286         Yemen  2022              2370\n",
       "4287  South Africa  2022             11.7k\n",
       "4288        Zambia  2022              3110\n",
       "4289      Zimbabwe  2022              2640"
      ]
     },
     "execution_count": 20,
     "metadata": {},
     "output_type": "execute_result"
    }
   ],
   "source": [
    "#check that year ends in 2022\n",
    "df_gdp1.tail(7)"
   ]
  },
  {
   "cell_type": "code",
   "execution_count": 21,
   "metadata": {},
   "outputs": [
    {
     "data": {
      "text/plain": [
       "(4290, 3)"
      ]
     },
     "execution_count": 21,
     "metadata": {},
     "output_type": "execute_result"
    }
   ],
   "source": [
    "#check number of columns and rows\n",
    "df_gdp1.shape"
   ]
  },
  {
   "cell_type": "code",
   "execution_count": 22,
   "metadata": {},
   "outputs": [],
   "source": [
    "##rehape income dataframe to columns; country, year and life_expectancy\n",
    "df_life1=df_life.melt(id_vars='country',var_name= 'year', value_name= 'life_expectancy')"
   ]
  },
  {
   "cell_type": "code",
   "execution_count": 23,
   "metadata": {},
   "outputs": [
    {
     "data": {
      "text/html": [
       "<div>\n",
       "<style scoped>\n",
       "    .dataframe tbody tr th:only-of-type {\n",
       "        vertical-align: middle;\n",
       "    }\n",
       "\n",
       "    .dataframe tbody tr th {\n",
       "        vertical-align: top;\n",
       "    }\n",
       "\n",
       "    .dataframe thead th {\n",
       "        text-align: right;\n",
       "    }\n",
       "</style>\n",
       "<table border=\"1\" class=\"dataframe\">\n",
       "  <thead>\n",
       "    <tr style=\"text-align: right;\">\n",
       "      <th></th>\n",
       "      <th>country</th>\n",
       "      <th>year</th>\n",
       "      <th>life_expectancy</th>\n",
       "    </tr>\n",
       "  </thead>\n",
       "  <tbody>\n",
       "    <tr>\n",
       "      <th>0</th>\n",
       "      <td>Afghanistan</td>\n",
       "      <td>2001</td>\n",
       "      <td>54.8</td>\n",
       "    </tr>\n",
       "    <tr>\n",
       "      <th>1</th>\n",
       "      <td>Angola</td>\n",
       "      <td>2001</td>\n",
       "      <td>53.4</td>\n",
       "    </tr>\n",
       "    <tr>\n",
       "      <th>2</th>\n",
       "      <td>Albania</td>\n",
       "      <td>2001</td>\n",
       "      <td>76.0</td>\n",
       "    </tr>\n",
       "    <tr>\n",
       "      <th>3</th>\n",
       "      <td>Andorra</td>\n",
       "      <td>2001</td>\n",
       "      <td>80.9</td>\n",
       "    </tr>\n",
       "    <tr>\n",
       "      <th>4</th>\n",
       "      <td>United Arab Emirates</td>\n",
       "      <td>2001</td>\n",
       "      <td>69.2</td>\n",
       "    </tr>\n",
       "  </tbody>\n",
       "</table>\n",
       "</div>"
      ],
      "text/plain": [
       "                country  year  life_expectancy\n",
       "0           Afghanistan  2001             54.8\n",
       "1                Angola  2001             53.4\n",
       "2               Albania  2001             76.0\n",
       "3               Andorra  2001             80.9\n",
       "4  United Arab Emirates  2001             69.2"
      ]
     },
     "execution_count": 23,
     "metadata": {},
     "output_type": "execute_result"
    }
   ],
   "source": [
    "#check shape of dataframe and check that year starts from 2001\n",
    "df_life1.head()"
   ]
  },
  {
   "cell_type": "code",
   "execution_count": 24,
   "metadata": {},
   "outputs": [
    {
     "data": {
      "text/html": [
       "<div>\n",
       "<style scoped>\n",
       "    .dataframe tbody tr th:only-of-type {\n",
       "        vertical-align: middle;\n",
       "    }\n",
       "\n",
       "    .dataframe tbody tr th {\n",
       "        vertical-align: top;\n",
       "    }\n",
       "\n",
       "    .dataframe thead th {\n",
       "        text-align: right;\n",
       "    }\n",
       "</style>\n",
       "<table border=\"1\" class=\"dataframe\">\n",
       "  <thead>\n",
       "    <tr style=\"text-align: right;\">\n",
       "      <th></th>\n",
       "      <th>country</th>\n",
       "      <th>year</th>\n",
       "      <th>life_expectancy</th>\n",
       "    </tr>\n",
       "  </thead>\n",
       "  <tbody>\n",
       "    <tr>\n",
       "      <th>4283</th>\n",
       "      <td>Vietnam</td>\n",
       "      <td>2022</td>\n",
       "      <td>74.8</td>\n",
       "    </tr>\n",
       "    <tr>\n",
       "      <th>4284</th>\n",
       "      <td>Vanuatu</td>\n",
       "      <td>2022</td>\n",
       "      <td>65.9</td>\n",
       "    </tr>\n",
       "    <tr>\n",
       "      <th>4285</th>\n",
       "      <td>Samoa</td>\n",
       "      <td>2022</td>\n",
       "      <td>70.8</td>\n",
       "    </tr>\n",
       "    <tr>\n",
       "      <th>4286</th>\n",
       "      <td>Yemen</td>\n",
       "      <td>2022</td>\n",
       "      <td>68.0</td>\n",
       "    </tr>\n",
       "    <tr>\n",
       "      <th>4287</th>\n",
       "      <td>South Africa</td>\n",
       "      <td>2022</td>\n",
       "      <td>65.9</td>\n",
       "    </tr>\n",
       "    <tr>\n",
       "      <th>4288</th>\n",
       "      <td>Zambia</td>\n",
       "      <td>2022</td>\n",
       "      <td>64.0</td>\n",
       "    </tr>\n",
       "    <tr>\n",
       "      <th>4289</th>\n",
       "      <td>Zimbabwe</td>\n",
       "      <td>2022</td>\n",
       "      <td>61.7</td>\n",
       "    </tr>\n",
       "  </tbody>\n",
       "</table>\n",
       "</div>"
      ],
      "text/plain": [
       "           country  year  life_expectancy\n",
       "4283       Vietnam  2022             74.8\n",
       "4284       Vanuatu  2022             65.9\n",
       "4285         Samoa  2022             70.8\n",
       "4286         Yemen  2022             68.0\n",
       "4287  South Africa  2022             65.9\n",
       "4288        Zambia  2022             64.0\n",
       "4289      Zimbabwe  2022             61.7"
      ]
     },
     "execution_count": 24,
     "metadata": {},
     "output_type": "execute_result"
    }
   ],
   "source": [
    "#check that year ends in 2022\n",
    "df_life1.tail(7)"
   ]
  },
  {
   "cell_type": "code",
   "execution_count": 25,
   "metadata": {},
   "outputs": [
    {
     "data": {
      "text/plain": [
       "(4290, 3)"
      ]
     },
     "execution_count": 25,
     "metadata": {},
     "output_type": "execute_result"
    }
   ],
   "source": [
    "#check the number of rows and columns\n",
    "df_life1.shape"
   ]
  },
  {
   "cell_type": "code",
   "execution_count": 26,
   "metadata": {},
   "outputs": [],
   "source": [
    "#rehape income dataframe to columns; country, year and child_mortality\n",
    "df_mort1=df_mort.melt(id_vars='country',var_name= 'year', value_name= 'child_mortality')"
   ]
  },
  {
   "cell_type": "code",
   "execution_count": 27,
   "metadata": {},
   "outputs": [
    {
     "data": {
      "text/html": [
       "<div>\n",
       "<style scoped>\n",
       "    .dataframe tbody tr th:only-of-type {\n",
       "        vertical-align: middle;\n",
       "    }\n",
       "\n",
       "    .dataframe tbody tr th {\n",
       "        vertical-align: top;\n",
       "    }\n",
       "\n",
       "    .dataframe thead th {\n",
       "        text-align: right;\n",
       "    }\n",
       "</style>\n",
       "<table border=\"1\" class=\"dataframe\">\n",
       "  <thead>\n",
       "    <tr style=\"text-align: right;\">\n",
       "      <th></th>\n",
       "      <th>country</th>\n",
       "      <th>year</th>\n",
       "      <th>child_mortality</th>\n",
       "    </tr>\n",
       "  </thead>\n",
       "  <tbody>\n",
       "    <tr>\n",
       "      <th>0</th>\n",
       "      <td>Afghanistan</td>\n",
       "      <td>2001</td>\n",
       "      <td>125.00</td>\n",
       "    </tr>\n",
       "    <tr>\n",
       "      <th>1</th>\n",
       "      <td>Angola</td>\n",
       "      <td>2001</td>\n",
       "      <td>200.00</td>\n",
       "    </tr>\n",
       "    <tr>\n",
       "      <th>2</th>\n",
       "      <td>Albania</td>\n",
       "      <td>2001</td>\n",
       "      <td>24.50</td>\n",
       "    </tr>\n",
       "    <tr>\n",
       "      <th>3</th>\n",
       "      <td>Andorra</td>\n",
       "      <td>2001</td>\n",
       "      <td>6.16</td>\n",
       "    </tr>\n",
       "    <tr>\n",
       "      <th>4</th>\n",
       "      <td>United Arab Emirates</td>\n",
       "      <td>2001</td>\n",
       "      <td>10.90</td>\n",
       "    </tr>\n",
       "  </tbody>\n",
       "</table>\n",
       "</div>"
      ],
      "text/plain": [
       "                country  year  child_mortality\n",
       "0           Afghanistan  2001           125.00\n",
       "1                Angola  2001           200.00\n",
       "2               Albania  2001            24.50\n",
       "3               Andorra  2001             6.16\n",
       "4  United Arab Emirates  2001            10.90"
      ]
     },
     "execution_count": 27,
     "metadata": {},
     "output_type": "execute_result"
    }
   ],
   "source": [
    "#check shape of dataframe and check that year starts from 2001\n",
    "df_mort1.head()"
   ]
  },
  {
   "cell_type": "code",
   "execution_count": 28,
   "metadata": {},
   "outputs": [
    {
     "data": {
      "text/html": [
       "<div>\n",
       "<style scoped>\n",
       "    .dataframe tbody tr th:only-of-type {\n",
       "        vertical-align: middle;\n",
       "    }\n",
       "\n",
       "    .dataframe tbody tr th {\n",
       "        vertical-align: top;\n",
       "    }\n",
       "\n",
       "    .dataframe thead th {\n",
       "        text-align: right;\n",
       "    }\n",
       "</style>\n",
       "<table border=\"1\" class=\"dataframe\">\n",
       "  <thead>\n",
       "    <tr style=\"text-align: right;\">\n",
       "      <th></th>\n",
       "      <th>country</th>\n",
       "      <th>year</th>\n",
       "      <th>child_mortality</th>\n",
       "    </tr>\n",
       "  </thead>\n",
       "  <tbody>\n",
       "    <tr>\n",
       "      <th>4327</th>\n",
       "      <td>Vietnam</td>\n",
       "      <td>2022</td>\n",
       "      <td>19.4</td>\n",
       "    </tr>\n",
       "    <tr>\n",
       "      <th>4328</th>\n",
       "      <td>Vanuatu</td>\n",
       "      <td>2022</td>\n",
       "      <td>23.4</td>\n",
       "    </tr>\n",
       "    <tr>\n",
       "      <th>4329</th>\n",
       "      <td>Samoa</td>\n",
       "      <td>2022</td>\n",
       "      <td>14.1</td>\n",
       "    </tr>\n",
       "    <tr>\n",
       "      <th>4330</th>\n",
       "      <td>Yemen</td>\n",
       "      <td>2022</td>\n",
       "      <td>53.5</td>\n",
       "    </tr>\n",
       "    <tr>\n",
       "      <th>4331</th>\n",
       "      <td>South Africa</td>\n",
       "      <td>2022</td>\n",
       "      <td>30.5</td>\n",
       "    </tr>\n",
       "    <tr>\n",
       "      <th>4332</th>\n",
       "      <td>Zambia</td>\n",
       "      <td>2022</td>\n",
       "      <td>51.5</td>\n",
       "    </tr>\n",
       "    <tr>\n",
       "      <th>4333</th>\n",
       "      <td>Zimbabwe</td>\n",
       "      <td>2022</td>\n",
       "      <td>41.3</td>\n",
       "    </tr>\n",
       "  </tbody>\n",
       "</table>\n",
       "</div>"
      ],
      "text/plain": [
       "           country  year  child_mortality\n",
       "4327       Vietnam  2022             19.4\n",
       "4328       Vanuatu  2022             23.4\n",
       "4329         Samoa  2022             14.1\n",
       "4330         Yemen  2022             53.5\n",
       "4331  South Africa  2022             30.5\n",
       "4332        Zambia  2022             51.5\n",
       "4333      Zimbabwe  2022             41.3"
      ]
     },
     "execution_count": 28,
     "metadata": {},
     "output_type": "execute_result"
    }
   ],
   "source": [
    "#check that year ends in 2022\n",
    "df_mort1.tail(7)"
   ]
  },
  {
   "cell_type": "code",
   "execution_count": 29,
   "metadata": {},
   "outputs": [
    {
     "data": {
      "text/plain": [
       "(4334, 3)"
      ]
     },
     "execution_count": 29,
     "metadata": {},
     "output_type": "execute_result"
    }
   ],
   "source": [
    "#check the number of rows and columns\n",
    "df_mort1.shape"
   ]
  },
  {
   "cell_type": "markdown",
   "metadata": {},
   "source": [
    " **The following code cells look at Merging the 3 dataframes into one main dataframe.**"
   ]
  },
  {
   "cell_type": "code",
   "execution_count": 30,
   "metadata": {},
   "outputs": [],
   "source": [
    "#merging income dataframe with life expectancy dataframe to create a new dataframe.\n",
    "df=df_gdp1.merge(df_life1, how='inner', sort=False)"
   ]
  },
  {
   "cell_type": "code",
   "execution_count": 31,
   "metadata": {},
   "outputs": [],
   "source": [
    "#merge df with child mortality to create a dataframe that has all 3 indicators.\n",
    "df_main=df.merge(df_mort1, how='inner', sort=False)"
   ]
  },
  {
   "cell_type": "code",
   "execution_count": 32,
   "metadata": {},
   "outputs": [
    {
     "data": {
      "text/html": [
       "<div>\n",
       "<style scoped>\n",
       "    .dataframe tbody tr th:only-of-type {\n",
       "        vertical-align: middle;\n",
       "    }\n",
       "\n",
       "    .dataframe tbody tr th {\n",
       "        vertical-align: top;\n",
       "    }\n",
       "\n",
       "    .dataframe thead th {\n",
       "        text-align: right;\n",
       "    }\n",
       "</style>\n",
       "<table border=\"1\" class=\"dataframe\">\n",
       "  <thead>\n",
       "    <tr style=\"text-align: right;\">\n",
       "      <th></th>\n",
       "      <th>country</th>\n",
       "      <th>year</th>\n",
       "      <th>income_per_person</th>\n",
       "      <th>life_expectancy</th>\n",
       "      <th>child_mortality</th>\n",
       "    </tr>\n",
       "  </thead>\n",
       "  <tbody>\n",
       "    <tr>\n",
       "      <th>0</th>\n",
       "      <td>Afghanistan</td>\n",
       "      <td>2001</td>\n",
       "      <td>563</td>\n",
       "      <td>54.8</td>\n",
       "      <td>125.00</td>\n",
       "    </tr>\n",
       "    <tr>\n",
       "      <th>1</th>\n",
       "      <td>Angola</td>\n",
       "      <td>2001</td>\n",
       "      <td>2490</td>\n",
       "      <td>53.4</td>\n",
       "      <td>200.00</td>\n",
       "    </tr>\n",
       "    <tr>\n",
       "      <th>2</th>\n",
       "      <td>Albania</td>\n",
       "      <td>2001</td>\n",
       "      <td>6460</td>\n",
       "      <td>76.0</td>\n",
       "      <td>24.50</td>\n",
       "    </tr>\n",
       "    <tr>\n",
       "      <th>3</th>\n",
       "      <td>Andorra</td>\n",
       "      <td>2001</td>\n",
       "      <td>35.5k</td>\n",
       "      <td>80.9</td>\n",
       "      <td>6.16</td>\n",
       "    </tr>\n",
       "    <tr>\n",
       "      <th>4</th>\n",
       "      <td>United Arab Emirates</td>\n",
       "      <td>2001</td>\n",
       "      <td>71.8k</td>\n",
       "      <td>69.2</td>\n",
       "      <td>10.90</td>\n",
       "    </tr>\n",
       "    <tr>\n",
       "      <th>5</th>\n",
       "      <td>Argentina</td>\n",
       "      <td>2001</td>\n",
       "      <td>17.6k</td>\n",
       "      <td>74.3</td>\n",
       "      <td>18.90</td>\n",
       "    </tr>\n",
       "    <tr>\n",
       "      <th>6</th>\n",
       "      <td>Armenia</td>\n",
       "      <td>2001</td>\n",
       "      <td>4460</td>\n",
       "      <td>72.5</td>\n",
       "      <td>29.30</td>\n",
       "    </tr>\n",
       "    <tr>\n",
       "      <th>7</th>\n",
       "      <td>Antigua and Barbuda</td>\n",
       "      <td>2001</td>\n",
       "      <td>17.2k</td>\n",
       "      <td>75.1</td>\n",
       "      <td>15.10</td>\n",
       "    </tr>\n",
       "    <tr>\n",
       "      <th>8</th>\n",
       "      <td>Australia</td>\n",
       "      <td>2001</td>\n",
       "      <td>38.7k</td>\n",
       "      <td>80.1</td>\n",
       "      <td>6.08</td>\n",
       "    </tr>\n",
       "    <tr>\n",
       "      <th>9</th>\n",
       "      <td>Austria</td>\n",
       "      <td>2001</td>\n",
       "      <td>47k</td>\n",
       "      <td>78.9</td>\n",
       "      <td>5.41</td>\n",
       "    </tr>\n",
       "  </tbody>\n",
       "</table>\n",
       "</div>"
      ],
      "text/plain": [
       "                country  year income_per_person  life_expectancy  \\\n",
       "0           Afghanistan  2001               563             54.8   \n",
       "1                Angola  2001              2490             53.4   \n",
       "2               Albania  2001              6460             76.0   \n",
       "3               Andorra  2001             35.5k             80.9   \n",
       "4  United Arab Emirates  2001             71.8k             69.2   \n",
       "5             Argentina  2001             17.6k             74.3   \n",
       "6               Armenia  2001              4460             72.5   \n",
       "7   Antigua and Barbuda  2001             17.2k             75.1   \n",
       "8             Australia  2001             38.7k             80.1   \n",
       "9               Austria  2001               47k             78.9   \n",
       "\n",
       "   child_mortality  \n",
       "0           125.00  \n",
       "1           200.00  \n",
       "2            24.50  \n",
       "3             6.16  \n",
       "4            10.90  \n",
       "5            18.90  \n",
       "6            29.30  \n",
       "7            15.10  \n",
       "8             6.08  \n",
       "9             5.41  "
      ]
     },
     "execution_count": 32,
     "metadata": {},
     "output_type": "execute_result"
    }
   ],
   "source": [
    "#Check for success\n",
    "df_main.head(10)"
   ]
  },
  {
   "cell_type": "code",
   "execution_count": 33,
   "metadata": {},
   "outputs": [
    {
     "name": "stdout",
     "output_type": "stream",
     "text": [
      "<class 'pandas.core.frame.DataFrame'>\n",
      "Int64Index: 4290 entries, 0 to 4289\n",
      "Data columns (total 5 columns):\n",
      " #   Column             Non-Null Count  Dtype  \n",
      "---  ------             --------------  -----  \n",
      " 0   country            4290 non-null   object \n",
      " 1   year               4290 non-null   object \n",
      " 2   income_per_person  4290 non-null   object \n",
      " 3   life_expectancy    4263 non-null   float64\n",
      " 4   child_mortality    4290 non-null   float64\n",
      "dtypes: float64(2), object(3)\n",
      "memory usage: 201.1+ KB\n"
     ]
    }
   ],
   "source": [
    "#check the columns and their datatypes\n",
    "df_main.info()"
   ]
  },
  {
   "cell_type": "markdown",
   "metadata": {},
   "source": [
    "**Observation**\n",
    "- This main dataframe has 5 columns namely; country, year, income_per_person, life_expectancy and child mortality.\n",
    "- Income_per_person is a object(string) therefore it has to be converted to float."
   ]
  },
  {
   "cell_type": "code",
   "execution_count": 34,
   "metadata": {},
   "outputs": [],
   "source": [
    "# remove k from values with k and multiple these figures by 1000 and convert datatype to float\n",
    "df_main['income_per_person']=df_main['income_per_person'].replace({'k':'*1000'}, regex=True).map(pd.eval).astype(float)"
   ]
  },
  {
   "cell_type": "code",
   "execution_count": 35,
   "metadata": {},
   "outputs": [
    {
     "name": "stdout",
     "output_type": "stream",
     "text": [
      "<class 'pandas.core.frame.DataFrame'>\n",
      "Int64Index: 4290 entries, 0 to 4289\n",
      "Data columns (total 5 columns):\n",
      " #   Column             Non-Null Count  Dtype  \n",
      "---  ------             --------------  -----  \n",
      " 0   country            4290 non-null   object \n",
      " 1   year               4290 non-null   object \n",
      " 2   income_per_person  4290 non-null   float64\n",
      " 3   life_expectancy    4263 non-null   float64\n",
      " 4   child_mortality    4290 non-null   float64\n",
      "dtypes: float64(3), object(2)\n",
      "memory usage: 201.1+ KB\n"
     ]
    }
   ],
   "source": [
    "#check for success\n",
    "df_main.info()"
   ]
  },
  {
   "cell_type": "code",
   "execution_count": 36,
   "metadata": {},
   "outputs": [
    {
     "data": {
      "text/plain": [
       "country               0\n",
       "year                  0\n",
       "income_per_person     0\n",
       "life_expectancy      27\n",
       "child_mortality       0\n",
       "dtype: int64"
      ]
     },
     "execution_count": 36,
     "metadata": {},
     "output_type": "execute_result"
    }
   ],
   "source": [
    "#check for null values in dataframe\n",
    "df_main.isnull().sum()"
   ]
  },
  {
   "cell_type": "markdown",
   "metadata": {},
   "source": [
    "**Observation**\n",
    "- Life expectancy has 27 null values\n",
    "- The other columns have no null values"
   ]
  },
  {
   "cell_type": "code",
   "execution_count": 37,
   "metadata": {},
   "outputs": [],
   "source": [
    "#replace null values of life expectancy with its mean\n",
    "mean=df_main['life_expectancy'].mean()\n",
    "df_main['life_expectancy'].fillna(mean, inplace=True)"
   ]
  },
  {
   "cell_type": "code",
   "execution_count": 38,
   "metadata": {},
   "outputs": [
    {
     "data": {
      "text/plain": [
       "country              0\n",
       "year                 0\n",
       "income_per_person    0\n",
       "life_expectancy      0\n",
       "child_mortality      0\n",
       "dtype: int64"
      ]
     },
     "execution_count": 38,
     "metadata": {},
     "output_type": "execute_result"
    }
   ],
   "source": [
    "#check for success\n",
    "df_main.isnull().sum()"
   ]
  },
  {
   "cell_type": "code",
   "execution_count": 39,
   "metadata": {},
   "outputs": [
    {
     "data": {
      "text/plain": [
       "0"
      ]
     },
     "execution_count": 39,
     "metadata": {},
     "output_type": "execute_result"
    }
   ],
   "source": [
    "#check for duplication in merged dataframe\n",
    "sum(df_main.duplicated())"
   ]
  },
  {
   "cell_type": "code",
   "execution_count": 40,
   "metadata": {},
   "outputs": [
    {
     "data": {
      "text/plain": [
       "country               195\n",
       "year                   22\n",
       "income_per_person    1443\n",
       "life_expectancy       390\n",
       "child_mortality      1481\n",
       "dtype: int64"
      ]
     },
     "execution_count": 40,
     "metadata": {},
     "output_type": "execute_result"
    }
   ],
   "source": [
    "#check number of unique values in each column\n",
    "df_main.nunique()"
   ]
  },
  {
   "cell_type": "markdown",
   "metadata": {},
   "source": [
    "**Observation**\n",
    "- There are 195 different countries in this dataframe."
   ]
  },
  {
   "cell_type": "markdown",
   "metadata": {},
   "source": [
    "**The following code cells adds continent to the dataframe in order to make analysis less complicated and broad**\n",
    ">There was a problem with Timor-Leste's country code after countless tries\n",
    "later, I decided to drop the country by settingindex to 'country' in order drop Timor-Leste"
   ]
  },
  {
   "cell_type": "code",
   "execution_count": 41,
   "metadata": {},
   "outputs": [],
   "source": [
    "#set index as country\n",
    "df_main.set_index('country',inplace=True)"
   ]
  },
  {
   "cell_type": "code",
   "execution_count": 42,
   "metadata": {},
   "outputs": [],
   "source": [
    "#drop Timor-Leste from the dataframe\n",
    "df_main=df_main.drop('Timor-Leste')"
   ]
  },
  {
   "cell_type": "code",
   "execution_count": 43,
   "metadata": {},
   "outputs": [],
   "source": [
    "#reset country index to normal index\n",
    "df_main.reset_index(inplace=True)"
   ]
  },
  {
   "cell_type": "code",
   "execution_count": 44,
   "metadata": {},
   "outputs": [],
   "source": [
    "#function to get continent codes\n",
    "def convert (row):\n",
    "    cn_code=pc.country_name_to_country_alpha2(row.country,cn_name_format='default')\n",
    "    continent_code=pc.country_alpha2_to_continent_code(cn_code)\n",
    "    return continent_code"
   ]
  },
  {
   "cell_type": "code",
   "execution_count": 45,
   "metadata": {},
   "outputs": [],
   "source": [
    "# correct invalid country names\n",
    "df_main['country']=df_main['country'].replace([\"Cote d'Ivoire\",'St. Vincent and the Grenadines','Congo, Dem. Rep.','Congo, Rep.','Micronesia, Fed. Sts.','Hong Kong, China','Lao'],[\"Côte d'Ivoire\",'Saint Vincent and the Grenadines','Democratic Republic of the Congo','Congo','Federated States of Micronesia','Hong Kong',\"Lao People's Democratic Republic\"])"
   ]
  },
  {
   "cell_type": "code",
   "execution_count": 46,
   "metadata": {},
   "outputs": [
    {
     "data": {
      "text/html": [
       "<div>\n",
       "<style scoped>\n",
       "    .dataframe tbody tr th:only-of-type {\n",
       "        vertical-align: middle;\n",
       "    }\n",
       "\n",
       "    .dataframe tbody tr th {\n",
       "        vertical-align: top;\n",
       "    }\n",
       "\n",
       "    .dataframe thead th {\n",
       "        text-align: right;\n",
       "    }\n",
       "</style>\n",
       "<table border=\"1\" class=\"dataframe\">\n",
       "  <thead>\n",
       "    <tr style=\"text-align: right;\">\n",
       "      <th></th>\n",
       "      <th>country</th>\n",
       "      <th>year</th>\n",
       "      <th>income_per_person</th>\n",
       "      <th>life_expectancy</th>\n",
       "      <th>child_mortality</th>\n",
       "      <th>continent</th>\n",
       "    </tr>\n",
       "  </thead>\n",
       "  <tbody>\n",
       "    <tr>\n",
       "      <th>0</th>\n",
       "      <td>Afghanistan</td>\n",
       "      <td>2001</td>\n",
       "      <td>563.0</td>\n",
       "      <td>54.8</td>\n",
       "      <td>125.00</td>\n",
       "      <td>AS</td>\n",
       "    </tr>\n",
       "    <tr>\n",
       "      <th>1</th>\n",
       "      <td>Angola</td>\n",
       "      <td>2001</td>\n",
       "      <td>2490.0</td>\n",
       "      <td>53.4</td>\n",
       "      <td>200.00</td>\n",
       "      <td>AF</td>\n",
       "    </tr>\n",
       "    <tr>\n",
       "      <th>2</th>\n",
       "      <td>Albania</td>\n",
       "      <td>2001</td>\n",
       "      <td>6460.0</td>\n",
       "      <td>76.0</td>\n",
       "      <td>24.50</td>\n",
       "      <td>EU</td>\n",
       "    </tr>\n",
       "    <tr>\n",
       "      <th>3</th>\n",
       "      <td>Andorra</td>\n",
       "      <td>2001</td>\n",
       "      <td>35500.0</td>\n",
       "      <td>80.9</td>\n",
       "      <td>6.16</td>\n",
       "      <td>EU</td>\n",
       "    </tr>\n",
       "    <tr>\n",
       "      <th>4</th>\n",
       "      <td>United Arab Emirates</td>\n",
       "      <td>2001</td>\n",
       "      <td>71800.0</td>\n",
       "      <td>69.2</td>\n",
       "      <td>10.90</td>\n",
       "      <td>AS</td>\n",
       "    </tr>\n",
       "    <tr>\n",
       "      <th>5</th>\n",
       "      <td>Argentina</td>\n",
       "      <td>2001</td>\n",
       "      <td>17600.0</td>\n",
       "      <td>74.3</td>\n",
       "      <td>18.90</td>\n",
       "      <td>SA</td>\n",
       "    </tr>\n",
       "    <tr>\n",
       "      <th>6</th>\n",
       "      <td>Armenia</td>\n",
       "      <td>2001</td>\n",
       "      <td>4460.0</td>\n",
       "      <td>72.5</td>\n",
       "      <td>29.30</td>\n",
       "      <td>AS</td>\n",
       "    </tr>\n",
       "    <tr>\n",
       "      <th>7</th>\n",
       "      <td>Antigua and Barbuda</td>\n",
       "      <td>2001</td>\n",
       "      <td>17200.0</td>\n",
       "      <td>75.1</td>\n",
       "      <td>15.10</td>\n",
       "      <td>NA</td>\n",
       "    </tr>\n",
       "    <tr>\n",
       "      <th>8</th>\n",
       "      <td>Australia</td>\n",
       "      <td>2001</td>\n",
       "      <td>38700.0</td>\n",
       "      <td>80.1</td>\n",
       "      <td>6.08</td>\n",
       "      <td>OC</td>\n",
       "    </tr>\n",
       "    <tr>\n",
       "      <th>9</th>\n",
       "      <td>Austria</td>\n",
       "      <td>2001</td>\n",
       "      <td>47000.0</td>\n",
       "      <td>78.9</td>\n",
       "      <td>5.41</td>\n",
       "      <td>EU</td>\n",
       "    </tr>\n",
       "  </tbody>\n",
       "</table>\n",
       "</div>"
      ],
      "text/plain": [
       "                country  year  income_per_person  life_expectancy  \\\n",
       "0           Afghanistan  2001              563.0             54.8   \n",
       "1                Angola  2001             2490.0             53.4   \n",
       "2               Albania  2001             6460.0             76.0   \n",
       "3               Andorra  2001            35500.0             80.9   \n",
       "4  United Arab Emirates  2001            71800.0             69.2   \n",
       "5             Argentina  2001            17600.0             74.3   \n",
       "6               Armenia  2001             4460.0             72.5   \n",
       "7   Antigua and Barbuda  2001            17200.0             75.1   \n",
       "8             Australia  2001            38700.0             80.1   \n",
       "9               Austria  2001            47000.0             78.9   \n",
       "\n",
       "   child_mortality continent  \n",
       "0           125.00        AS  \n",
       "1           200.00        AF  \n",
       "2            24.50        EU  \n",
       "3             6.16        EU  \n",
       "4            10.90        AS  \n",
       "5            18.90        SA  \n",
       "6            29.30        AS  \n",
       "7            15.10        NA  \n",
       "8             6.08        OC  \n",
       "9             5.41        EU  "
      ]
     },
     "execution_count": 46,
     "metadata": {},
     "output_type": "execute_result"
    }
   ],
   "source": [
    "#create new column for continent\n",
    "df_main['continent']=df_main.apply(convert, axis=1)\n",
    "df_main.head(10)"
   ]
  },
  {
   "cell_type": "code",
   "execution_count": 47,
   "metadata": {},
   "outputs": [
    {
     "data": {
      "text/html": [
       "<div>\n",
       "<style scoped>\n",
       "    .dataframe tbody tr th:only-of-type {\n",
       "        vertical-align: middle;\n",
       "    }\n",
       "\n",
       "    .dataframe tbody tr th {\n",
       "        vertical-align: top;\n",
       "    }\n",
       "\n",
       "    .dataframe thead th {\n",
       "        text-align: right;\n",
       "    }\n",
       "</style>\n",
       "<table border=\"1\" class=\"dataframe\">\n",
       "  <thead>\n",
       "    <tr style=\"text-align: right;\">\n",
       "      <th></th>\n",
       "      <th>country</th>\n",
       "      <th>year</th>\n",
       "      <th>income_per_person</th>\n",
       "      <th>life_expectancy</th>\n",
       "      <th>child_mortality</th>\n",
       "      <th>continent</th>\n",
       "    </tr>\n",
       "  </thead>\n",
       "  <tbody>\n",
       "    <tr>\n",
       "      <th>0</th>\n",
       "      <td>Afghanistan</td>\n",
       "      <td>2001</td>\n",
       "      <td>563.0</td>\n",
       "      <td>54.8</td>\n",
       "      <td>125.00</td>\n",
       "      <td>Asia</td>\n",
       "    </tr>\n",
       "    <tr>\n",
       "      <th>1</th>\n",
       "      <td>Angola</td>\n",
       "      <td>2001</td>\n",
       "      <td>2490.0</td>\n",
       "      <td>53.4</td>\n",
       "      <td>200.00</td>\n",
       "      <td>Africa</td>\n",
       "    </tr>\n",
       "    <tr>\n",
       "      <th>2</th>\n",
       "      <td>Albania</td>\n",
       "      <td>2001</td>\n",
       "      <td>6460.0</td>\n",
       "      <td>76.0</td>\n",
       "      <td>24.50</td>\n",
       "      <td>Europe</td>\n",
       "    </tr>\n",
       "    <tr>\n",
       "      <th>3</th>\n",
       "      <td>Andorra</td>\n",
       "      <td>2001</td>\n",
       "      <td>35500.0</td>\n",
       "      <td>80.9</td>\n",
       "      <td>6.16</td>\n",
       "      <td>Europe</td>\n",
       "    </tr>\n",
       "    <tr>\n",
       "      <th>4</th>\n",
       "      <td>United Arab Emirates</td>\n",
       "      <td>2001</td>\n",
       "      <td>71800.0</td>\n",
       "      <td>69.2</td>\n",
       "      <td>10.90</td>\n",
       "      <td>Asia</td>\n",
       "    </tr>\n",
       "    <tr>\n",
       "      <th>...</th>\n",
       "      <td>...</td>\n",
       "      <td>...</td>\n",
       "      <td>...</td>\n",
       "      <td>...</td>\n",
       "      <td>...</td>\n",
       "      <td>...</td>\n",
       "    </tr>\n",
       "    <tr>\n",
       "      <th>4263</th>\n",
       "      <td>Samoa</td>\n",
       "      <td>2022</td>\n",
       "      <td>5770.0</td>\n",
       "      <td>70.8</td>\n",
       "      <td>14.10</td>\n",
       "      <td>Oceania</td>\n",
       "    </tr>\n",
       "    <tr>\n",
       "      <th>4264</th>\n",
       "      <td>Yemen</td>\n",
       "      <td>2022</td>\n",
       "      <td>2370.0</td>\n",
       "      <td>68.0</td>\n",
       "      <td>53.50</td>\n",
       "      <td>Asia</td>\n",
       "    </tr>\n",
       "    <tr>\n",
       "      <th>4265</th>\n",
       "      <td>South Africa</td>\n",
       "      <td>2022</td>\n",
       "      <td>11700.0</td>\n",
       "      <td>65.9</td>\n",
       "      <td>30.50</td>\n",
       "      <td>Africa</td>\n",
       "    </tr>\n",
       "    <tr>\n",
       "      <th>4266</th>\n",
       "      <td>Zambia</td>\n",
       "      <td>2022</td>\n",
       "      <td>3110.0</td>\n",
       "      <td>64.0</td>\n",
       "      <td>51.50</td>\n",
       "      <td>Africa</td>\n",
       "    </tr>\n",
       "    <tr>\n",
       "      <th>4267</th>\n",
       "      <td>Zimbabwe</td>\n",
       "      <td>2022</td>\n",
       "      <td>2640.0</td>\n",
       "      <td>61.7</td>\n",
       "      <td>41.30</td>\n",
       "      <td>Africa</td>\n",
       "    </tr>\n",
       "  </tbody>\n",
       "</table>\n",
       "<p>4268 rows × 6 columns</p>\n",
       "</div>"
      ],
      "text/plain": [
       "                   country  year  income_per_person  life_expectancy  \\\n",
       "0              Afghanistan  2001              563.0             54.8   \n",
       "1                   Angola  2001             2490.0             53.4   \n",
       "2                  Albania  2001             6460.0             76.0   \n",
       "3                  Andorra  2001            35500.0             80.9   \n",
       "4     United Arab Emirates  2001            71800.0             69.2   \n",
       "...                    ...   ...                ...              ...   \n",
       "4263                 Samoa  2022             5770.0             70.8   \n",
       "4264                 Yemen  2022             2370.0             68.0   \n",
       "4265          South Africa  2022            11700.0             65.9   \n",
       "4266                Zambia  2022             3110.0             64.0   \n",
       "4267              Zimbabwe  2022             2640.0             61.7   \n",
       "\n",
       "      child_mortality continent  \n",
       "0              125.00      Asia  \n",
       "1              200.00    Africa  \n",
       "2               24.50    Europe  \n",
       "3                6.16    Europe  \n",
       "4               10.90      Asia  \n",
       "...               ...       ...  \n",
       "4263            14.10   Oceania  \n",
       "4264            53.50      Asia  \n",
       "4265            30.50    Africa  \n",
       "4266            51.50    Africa  \n",
       "4267            41.30    Africa  \n",
       "\n",
       "[4268 rows x 6 columns]"
      ]
     },
     "execution_count": 47,
     "metadata": {},
     "output_type": "execute_result"
    }
   ],
   "source": [
    "#continent codes to continent names \n",
    "continent_names={'AS':'Asia',\n",
    "               'AF':'Africa',\n",
    "                'EU':'Europe',\n",
    "               'SA':'South America',\n",
    "               'OC':'Oceania',\n",
    "               'NA':'North America'}\n",
    "df_main['continent'] = df_main['continent'].map(continent_names)\n",
    "#check for success\n",
    "df_main"
   ]
  },
  {
   "cell_type": "code",
   "execution_count": 48,
   "metadata": {},
   "outputs": [],
   "source": [
    "df_main.to_csv('incomelifemort.csv',index=False)"
   ]
  },
  {
   "cell_type": "markdown",
   "metadata": {},
   "source": [
    "<a id='eda'></a>\n",
    "## Exploratory Data Analysis\n",
    " \n",
    "\n",
    "### Data Exploration"
   ]
  },
  {
   "cell_type": "code",
   "execution_count": 49,
   "metadata": {},
   "outputs": [
    {
     "data": {
      "text/html": [
       "<div>\n",
       "<style scoped>\n",
       "    .dataframe tbody tr th:only-of-type {\n",
       "        vertical-align: middle;\n",
       "    }\n",
       "\n",
       "    .dataframe tbody tr th {\n",
       "        vertical-align: top;\n",
       "    }\n",
       "\n",
       "    .dataframe thead th {\n",
       "        text-align: right;\n",
       "    }\n",
       "</style>\n",
       "<table border=\"1\" class=\"dataframe\">\n",
       "  <thead>\n",
       "    <tr style=\"text-align: right;\">\n",
       "      <th></th>\n",
       "      <th>income_per_person</th>\n",
       "      <th>life_expectancy</th>\n",
       "      <th>child_mortality</th>\n",
       "    </tr>\n",
       "  </thead>\n",
       "  <tbody>\n",
       "    <tr>\n",
       "      <th>count</th>\n",
       "      <td>4268.000000</td>\n",
       "      <td>4268.000000</td>\n",
       "      <td>4268.000000</td>\n",
       "    </tr>\n",
       "    <tr>\n",
       "      <th>mean</th>\n",
       "      <td>18567.744611</td>\n",
       "      <td>70.752938</td>\n",
       "      <td>36.688828</td>\n",
       "    </tr>\n",
       "    <tr>\n",
       "      <th>std</th>\n",
       "      <td>19991.470030</td>\n",
       "      <td>8.392348</td>\n",
       "      <td>39.683749</td>\n",
       "    </tr>\n",
       "    <tr>\n",
       "      <th>min</th>\n",
       "      <td>563.000000</td>\n",
       "      <td>32.500000</td>\n",
       "      <td>1.470000</td>\n",
       "    </tr>\n",
       "    <tr>\n",
       "      <th>25%</th>\n",
       "      <td>3710.000000</td>\n",
       "      <td>65.100000</td>\n",
       "      <td>7.890000</td>\n",
       "    </tr>\n",
       "    <tr>\n",
       "      <th>50%</th>\n",
       "      <td>11300.000000</td>\n",
       "      <td>72.500000</td>\n",
       "      <td>20.000000</td>\n",
       "    </tr>\n",
       "    <tr>\n",
       "      <th>75%</th>\n",
       "      <td>26500.000000</td>\n",
       "      <td>76.800000</td>\n",
       "      <td>53.325000</td>\n",
       "    </tr>\n",
       "    <tr>\n",
       "      <th>max</th>\n",
       "      <td>115000.000000</td>\n",
       "      <td>85.300000</td>\n",
       "      <td>229.000000</td>\n",
       "    </tr>\n",
       "  </tbody>\n",
       "</table>\n",
       "</div>"
      ],
      "text/plain": [
       "       income_per_person  life_expectancy  child_mortality\n",
       "count        4268.000000      4268.000000      4268.000000\n",
       "mean        18567.744611        70.752938        36.688828\n",
       "std         19991.470030         8.392348        39.683749\n",
       "min           563.000000        32.500000         1.470000\n",
       "25%          3710.000000        65.100000         7.890000\n",
       "50%         11300.000000        72.500000        20.000000\n",
       "75%         26500.000000        76.800000        53.325000\n",
       "max        115000.000000        85.300000       229.000000"
      ]
     },
     "execution_count": 49,
     "metadata": {},
     "output_type": "execute_result"
    }
   ],
   "source": [
    "# What is the highest income_per_person, life_expectancy and child mortality?\n",
    "# What is the average income_per_person, life_expectancy and child mortality?\n",
    "# What is the minimum income_per_person, life_expectancy and child mortality?\n",
    "df_main.describe()"
   ]
  },
  {
   "cell_type": "markdown",
   "metadata": {},
   "source": [
    "**Observation**\n",
    "- The highest income_per_person is 115,000 dollars\n",
    "- The highest life_expectancy is approximately 85 years.\n",
    "- The highest child mortality rate is 229 death under 5 years per 1000 born.\n",
    "- The average income_per_person is approx. 18,568 dollars\n",
    "- The average life expectancy is approx. 71 years.\n",
    "- The average child mortality is approx. 37 death under 5 years per 1000 born."
   ]
  },
  {
   "cell_type": "markdown",
   "metadata": {},
   "source": [
    "**The following code cells look at statistics of each continent.**"
   ]
  },
  {
   "cell_type": "code",
   "execution_count": 50,
   "metadata": {},
   "outputs": [
    {
     "data": {
      "text/plain": [
       "country               54\n",
       "year                  22\n",
       "income_per_person    632\n",
       "life_expectancy      309\n",
       "child_mortality      621\n",
       "continent              1\n",
       "dtype: int64"
      ]
     },
     "execution_count": 50,
     "metadata": {},
     "output_type": "execute_result"
    }
   ],
   "source": [
    "#Number of african countries in the dataset\n",
    "df_main[df_main['continent'] == 'Africa'].nunique()"
   ]
  },
  {
   "cell_type": "code",
   "execution_count": 51,
   "metadata": {},
   "outputs": [
    {
     "data": {
      "text/html": [
       "<div>\n",
       "<style scoped>\n",
       "    .dataframe tbody tr th:only-of-type {\n",
       "        vertical-align: middle;\n",
       "    }\n",
       "\n",
       "    .dataframe tbody tr th {\n",
       "        vertical-align: top;\n",
       "    }\n",
       "\n",
       "    .dataframe thead th {\n",
       "        text-align: right;\n",
       "    }\n",
       "</style>\n",
       "<table border=\"1\" class=\"dataframe\">\n",
       "  <thead>\n",
       "    <tr style=\"text-align: right;\">\n",
       "      <th></th>\n",
       "      <th>income_per_person</th>\n",
       "      <th>life_expectancy</th>\n",
       "      <th>child_mortality</th>\n",
       "    </tr>\n",
       "  </thead>\n",
       "  <tbody>\n",
       "    <tr>\n",
       "      <th>count</th>\n",
       "      <td>1188.000000</td>\n",
       "      <td>1188.000000</td>\n",
       "      <td>1188.000000</td>\n",
       "    </tr>\n",
       "    <tr>\n",
       "      <th>mean</th>\n",
       "      <td>5248.788721</td>\n",
       "      <td>61.946296</td>\n",
       "      <td>82.079125</td>\n",
       "    </tr>\n",
       "    <tr>\n",
       "      <th>std</th>\n",
       "      <td>5971.473251</td>\n",
       "      <td>7.371324</td>\n",
       "      <td>43.140428</td>\n",
       "    </tr>\n",
       "    <tr>\n",
       "      <th>min</th>\n",
       "      <td>673.000000</td>\n",
       "      <td>43.100000</td>\n",
       "      <td>10.600000</td>\n",
       "    </tr>\n",
       "    <tr>\n",
       "      <th>25%</th>\n",
       "      <td>1640.000000</td>\n",
       "      <td>57.100000</td>\n",
       "      <td>48.675000</td>\n",
       "    </tr>\n",
       "    <tr>\n",
       "      <th>50%</th>\n",
       "      <td>2835.000000</td>\n",
       "      <td>61.900000</td>\n",
       "      <td>78.800000</td>\n",
       "    </tr>\n",
       "    <tr>\n",
       "      <th>75%</th>\n",
       "      <td>6232.500000</td>\n",
       "      <td>66.500000</td>\n",
       "      <td>110.000000</td>\n",
       "    </tr>\n",
       "    <tr>\n",
       "      <th>max</th>\n",
       "      <td>41200.000000</td>\n",
       "      <td>78.300000</td>\n",
       "      <td>229.000000</td>\n",
       "    </tr>\n",
       "  </tbody>\n",
       "</table>\n",
       "</div>"
      ],
      "text/plain": [
       "       income_per_person  life_expectancy  child_mortality\n",
       "count        1188.000000      1188.000000      1188.000000\n",
       "mean         5248.788721        61.946296        82.079125\n",
       "std          5971.473251         7.371324        43.140428\n",
       "min           673.000000        43.100000        10.600000\n",
       "25%          1640.000000        57.100000        48.675000\n",
       "50%          2835.000000        61.900000        78.800000\n",
       "75%          6232.500000        66.500000       110.000000\n",
       "max         41200.000000        78.300000       229.000000"
      ]
     },
     "execution_count": 51,
     "metadata": {},
     "output_type": "execute_result"
    }
   ],
   "source": [
    "df_main[df_main['continent'] == 'Africa'].describe()"
   ]
  },
  {
   "cell_type": "markdown",
   "metadata": {},
   "source": [
    "**Observation**\n",
    "- There are 54 African countires in this data\n",
    "- The highest income per person in Africa is 41,200 dollars.\n",
    "- The highest life expectancy in Africa approx.78 years.\n",
    "- The highest child mortality in Africa approx 229 death under 5 years per 1000 born.\n",
    "- The average income_per_person is approx. 5,249 dollars.\n",
    "- The average life expectancy in Africa is approx. 62 years.\n",
    "- The average child mortality rate is 82 death under 5 years per 1000 born."
   ]
  },
  {
   "cell_type": "code",
   "execution_count": 52,
   "metadata": {},
   "outputs": [
    {
     "data": {
      "text/plain": [
       "country               42\n",
       "year                  22\n",
       "income_per_person    513\n",
       "life_expectancy      168\n",
       "child_mortality      540\n",
       "continent              1\n",
       "dtype: int64"
      ]
     },
     "execution_count": 52,
     "metadata": {},
     "output_type": "execute_result"
    }
   ],
   "source": [
    "#Number of European countries in the dataset\n",
    "df_main[df_main['continent'] == 'Europe'].nunique()"
   ]
  },
  {
   "cell_type": "code",
   "execution_count": 53,
   "metadata": {},
   "outputs": [
    {
     "data": {
      "text/html": [
       "<div>\n",
       "<style scoped>\n",
       "    .dataframe tbody tr th:only-of-type {\n",
       "        vertical-align: middle;\n",
       "    }\n",
       "\n",
       "    .dataframe tbody tr th {\n",
       "        vertical-align: top;\n",
       "    }\n",
       "\n",
       "    .dataframe thead th {\n",
       "        text-align: right;\n",
       "    }\n",
       "</style>\n",
       "<table border=\"1\" class=\"dataframe\">\n",
       "  <thead>\n",
       "    <tr style=\"text-align: right;\">\n",
       "      <th></th>\n",
       "      <th>income_per_person</th>\n",
       "      <th>life_expectancy</th>\n",
       "      <th>child_mortality</th>\n",
       "    </tr>\n",
       "  </thead>\n",
       "  <tbody>\n",
       "    <tr>\n",
       "      <th>count</th>\n",
       "      <td>924.000000</td>\n",
       "      <td>924.000000</td>\n",
       "      <td>924.000000</td>\n",
       "    </tr>\n",
       "    <tr>\n",
       "      <th>mean</th>\n",
       "      <td>37331.428571</td>\n",
       "      <td>77.863759</td>\n",
       "      <td>6.034643</td>\n",
       "    </tr>\n",
       "    <tr>\n",
       "      <th>std</th>\n",
       "      <td>20607.781817</td>\n",
       "      <td>4.081301</td>\n",
       "      <td>3.892930</td>\n",
       "    </tr>\n",
       "    <tr>\n",
       "      <th>min</th>\n",
       "      <td>5400.000000</td>\n",
       "      <td>65.000000</td>\n",
       "      <td>1.470000</td>\n",
       "    </tr>\n",
       "    <tr>\n",
       "      <th>25%</th>\n",
       "      <td>21100.000000</td>\n",
       "      <td>74.800000</td>\n",
       "      <td>3.667500</td>\n",
       "    </tr>\n",
       "    <tr>\n",
       "      <th>50%</th>\n",
       "      <td>35000.000000</td>\n",
       "      <td>78.950000</td>\n",
       "      <td>4.620000</td>\n",
       "    </tr>\n",
       "    <tr>\n",
       "      <th>75%</th>\n",
       "      <td>49625.000000</td>\n",
       "      <td>81.300000</td>\n",
       "      <td>7.060000</td>\n",
       "    </tr>\n",
       "    <tr>\n",
       "      <th>max</th>\n",
       "      <td>115000.000000</td>\n",
       "      <td>84.500000</td>\n",
       "      <td>28.300000</td>\n",
       "    </tr>\n",
       "  </tbody>\n",
       "</table>\n",
       "</div>"
      ],
      "text/plain": [
       "       income_per_person  life_expectancy  child_mortality\n",
       "count         924.000000       924.000000       924.000000\n",
       "mean        37331.428571        77.863759         6.034643\n",
       "std         20607.781817         4.081301         3.892930\n",
       "min          5400.000000        65.000000         1.470000\n",
       "25%         21100.000000        74.800000         3.667500\n",
       "50%         35000.000000        78.950000         4.620000\n",
       "75%         49625.000000        81.300000         7.060000\n",
       "max        115000.000000        84.500000        28.300000"
      ]
     },
     "execution_count": 53,
     "metadata": {},
     "output_type": "execute_result"
    }
   ],
   "source": [
    "df_main[df_main['continent'] == 'Europe'].describe()"
   ]
  },
  {
   "cell_type": "markdown",
   "metadata": {},
   "source": [
    "**Observation**\n",
    "- There are 42 European countires in this data\n",
    "- The highest income per person in Europe is 115,000 dollars.\n",
    "- The highest life expectancy in Europe approx.85 years.\n",
    "- The highest child mortality in Europe approx 28 death under 5 years per 1000 born.\n",
    "- The average income_per_person is approx. 37,331 dollars.\n",
    "- The average life expectancy in Europe is approx. 78 years.\n",
    "- The average child mortality rate is 6 death under 5 years per 1000 born."
   ]
  },
  {
   "cell_type": "code",
   "execution_count": 54,
   "metadata": {},
   "outputs": [
    {
     "data": {
      "text/plain": [
       "country               12\n",
       "year                  22\n",
       "income_per_person    165\n",
       "life_expectancy      120\n",
       "child_mortality      189\n",
       "continent              1\n",
       "dtype: int64"
      ]
     },
     "execution_count": 54,
     "metadata": {},
     "output_type": "execute_result"
    }
   ],
   "source": [
    "#Number of South American countries in the dataset\n",
    "df_main[df_main['continent'] == 'South America'].nunique()"
   ]
  },
  {
   "cell_type": "code",
   "execution_count": 55,
   "metadata": {},
   "outputs": [
    {
     "data": {
      "text/html": [
       "<div>\n",
       "<style scoped>\n",
       "    .dataframe tbody tr th:only-of-type {\n",
       "        vertical-align: middle;\n",
       "    }\n",
       "\n",
       "    .dataframe tbody tr th {\n",
       "        vertical-align: top;\n",
       "    }\n",
       "\n",
       "    .dataframe thead th {\n",
       "        text-align: right;\n",
       "    }\n",
       "</style>\n",
       "<table border=\"1\" class=\"dataframe\">\n",
       "  <thead>\n",
       "    <tr style=\"text-align: right;\">\n",
       "      <th></th>\n",
       "      <th>income_per_person</th>\n",
       "      <th>life_expectancy</th>\n",
       "      <th>child_mortality</th>\n",
       "    </tr>\n",
       "  </thead>\n",
       "  <tbody>\n",
       "    <tr>\n",
       "      <th>count</th>\n",
       "      <td>264.000000</td>\n",
       "      <td>264.000000</td>\n",
       "      <td>264.000000</td>\n",
       "    </tr>\n",
       "    <tr>\n",
       "      <th>mean</th>\n",
       "      <td>13985.871212</td>\n",
       "      <td>74.626894</td>\n",
       "      <td>21.317614</td>\n",
       "    </tr>\n",
       "    <tr>\n",
       "      <th>std</th>\n",
       "      <td>5190.732309</td>\n",
       "      <td>3.808974</td>\n",
       "      <td>10.931566</td>\n",
       "    </tr>\n",
       "    <tr>\n",
       "      <th>min</th>\n",
       "      <td>5150.000000</td>\n",
       "      <td>63.900000</td>\n",
       "      <td>6.500000</td>\n",
       "    </tr>\n",
       "    <tr>\n",
       "      <th>25%</th>\n",
       "      <td>10100.000000</td>\n",
       "      <td>72.800000</td>\n",
       "      <td>13.900000</td>\n",
       "    </tr>\n",
       "    <tr>\n",
       "      <th>50%</th>\n",
       "      <td>12850.000000</td>\n",
       "      <td>75.500000</td>\n",
       "      <td>19.000000</td>\n",
       "    </tr>\n",
       "    <tr>\n",
       "      <th>75%</th>\n",
       "      <td>17525.000000</td>\n",
       "      <td>77.000000</td>\n",
       "      <td>26.450000</td>\n",
       "    </tr>\n",
       "    <tr>\n",
       "      <th>max</th>\n",
       "      <td>25200.000000</td>\n",
       "      <td>80.900000</td>\n",
       "      <td>71.000000</td>\n",
       "    </tr>\n",
       "  </tbody>\n",
       "</table>\n",
       "</div>"
      ],
      "text/plain": [
       "       income_per_person  life_expectancy  child_mortality\n",
       "count         264.000000       264.000000       264.000000\n",
       "mean        13985.871212        74.626894        21.317614\n",
       "std          5190.732309         3.808974        10.931566\n",
       "min          5150.000000        63.900000         6.500000\n",
       "25%         10100.000000        72.800000        13.900000\n",
       "50%         12850.000000        75.500000        19.000000\n",
       "75%         17525.000000        77.000000        26.450000\n",
       "max         25200.000000        80.900000        71.000000"
      ]
     },
     "execution_count": 55,
     "metadata": {},
     "output_type": "execute_result"
    }
   ],
   "source": [
    "df_main[df_main['continent'] == 'South America'].describe()"
   ]
  },
  {
   "cell_type": "markdown",
   "metadata": {},
   "source": [
    "**Observation**\n",
    "- There are 12 South American countires in this data\n",
    "- The highest income per person in South America is 25,200 dollars.\n",
    "- The highest life expectancy in South America approx.81 years.\n",
    "- The highest child mortality in South America approx 71 death under 5 years per 1000 born.\n",
    "- The average income_per_person is approx. 139,859 dollars.\n",
    "- The average life expectancy in South America is approx. 75 years.\n",
    "- The average child mortality rate is 21 death under 5 years per 1000 born."
   ]
  },
  {
   "cell_type": "code",
   "execution_count": 56,
   "metadata": {},
   "outputs": [
    {
     "data": {
      "text/plain": [
       "country               23\n",
       "year                  22\n",
       "income_per_person    347\n",
       "life_expectancy      145\n",
       "child_mortality      303\n",
       "continent              1\n",
       "dtype: int64"
      ]
     },
     "execution_count": 56,
     "metadata": {},
     "output_type": "execute_result"
    }
   ],
   "source": [
    "#Number of North American countries in the dataset\n",
    "df_main[df_main['continent'] == 'North America'].nunique()"
   ]
  },
  {
   "cell_type": "code",
   "execution_count": 57,
   "metadata": {},
   "outputs": [
    {
     "data": {
      "text/html": [
       "<div>\n",
       "<style scoped>\n",
       "    .dataframe tbody tr th:only-of-type {\n",
       "        vertical-align: middle;\n",
       "    }\n",
       "\n",
       "    .dataframe tbody tr th {\n",
       "        vertical-align: top;\n",
       "    }\n",
       "\n",
       "    .dataframe thead th {\n",
       "        text-align: right;\n",
       "    }\n",
       "</style>\n",
       "<table border=\"1\" class=\"dataframe\">\n",
       "  <thead>\n",
       "    <tr style=\"text-align: right;\">\n",
       "      <th></th>\n",
       "      <th>income_per_person</th>\n",
       "      <th>life_expectancy</th>\n",
       "      <th>child_mortality</th>\n",
       "    </tr>\n",
       "  </thead>\n",
       "  <tbody>\n",
       "    <tr>\n",
       "      <th>count</th>\n",
       "      <td>506.000000</td>\n",
       "      <td>506.000000</td>\n",
       "      <td>506.000000</td>\n",
       "    </tr>\n",
       "    <tr>\n",
       "      <th>mean</th>\n",
       "      <td>17331.936759</td>\n",
       "      <td>74.259042</td>\n",
       "      <td>20.203103</td>\n",
       "    </tr>\n",
       "    <tr>\n",
       "      <th>std</th>\n",
       "      <td>13309.990464</td>\n",
       "      <td>4.459930</td>\n",
       "      <td>16.992569</td>\n",
       "    </tr>\n",
       "    <tr>\n",
       "      <th>min</th>\n",
       "      <td>2580.000000</td>\n",
       "      <td>32.500000</td>\n",
       "      <td>4.660000</td>\n",
       "    </tr>\n",
       "    <tr>\n",
       "      <th>25%</th>\n",
       "      <td>7982.500000</td>\n",
       "      <td>72.400000</td>\n",
       "      <td>12.100000</td>\n",
       "    </tr>\n",
       "    <tr>\n",
       "      <th>50%</th>\n",
       "      <td>13600.000000</td>\n",
       "      <td>74.400000</td>\n",
       "      <td>16.400000</td>\n",
       "    </tr>\n",
       "    <tr>\n",
       "      <th>75%</th>\n",
       "      <td>20575.000000</td>\n",
       "      <td>76.475000</td>\n",
       "      <td>22.475000</td>\n",
       "    </tr>\n",
       "    <tr>\n",
       "      <th>max</th>\n",
       "      <td>65400.000000</td>\n",
       "      <td>82.600000</td>\n",
       "      <td>209.000000</td>\n",
       "    </tr>\n",
       "  </tbody>\n",
       "</table>\n",
       "</div>"
      ],
      "text/plain": [
       "       income_per_person  life_expectancy  child_mortality\n",
       "count         506.000000       506.000000       506.000000\n",
       "mean        17331.936759        74.259042        20.203103\n",
       "std         13309.990464         4.459930        16.992569\n",
       "min          2580.000000        32.500000         4.660000\n",
       "25%          7982.500000        72.400000        12.100000\n",
       "50%         13600.000000        74.400000        16.400000\n",
       "75%         20575.000000        76.475000        22.475000\n",
       "max         65400.000000        82.600000       209.000000"
      ]
     },
     "execution_count": 57,
     "metadata": {},
     "output_type": "execute_result"
    }
   ],
   "source": [
    "df_main[df_main['continent'] == 'North America'].describe()"
   ]
  },
  {
   "cell_type": "markdown",
   "metadata": {},
   "source": [
    "**Observation**\n",
    "- There are 23 North American countires in this data\n",
    "- The highest income per person in North America is 65,400 dollars.\n",
    "- The highest life expectancy in North America  approx. 83 years.\n",
    "- The highest child mortality in North America approx 209 death under 5 years per 1000 born.\n",
    "- The average income_per_person is approx. 17,331 dollars.\n",
    "- The average life expectancy in North America is approx. 74 years.\n",
    "- The average child mortality rate is 20 death under 5 years per 1000 born."
   ]
  },
  {
   "cell_type": "code",
   "execution_count": 58,
   "metadata": {},
   "outputs": [
    {
     "data": {
      "text/plain": [
       "country               49\n",
       "year                  22\n",
       "income_per_person    713\n",
       "life_expectancy      251\n",
       "child_mortality      671\n",
       "continent              1\n",
       "dtype: int64"
      ]
     },
     "execution_count": 58,
     "metadata": {},
     "output_type": "execute_result"
    }
   ],
   "source": [
    "#Number of Asian countries in the dataset\n",
    "df_main[df_main['continent'] == 'Asia'].nunique()"
   ]
  },
  {
   "cell_type": "code",
   "execution_count": 59,
   "metadata": {},
   "outputs": [
    {
     "data": {
      "text/html": [
       "<div>\n",
       "<style scoped>\n",
       "    .dataframe tbody tr th:only-of-type {\n",
       "        vertical-align: middle;\n",
       "    }\n",
       "\n",
       "    .dataframe tbody tr th {\n",
       "        vertical-align: top;\n",
       "    }\n",
       "\n",
       "    .dataframe thead th {\n",
       "        text-align: right;\n",
       "    }\n",
       "</style>\n",
       "<table border=\"1\" class=\"dataframe\">\n",
       "  <thead>\n",
       "    <tr style=\"text-align: right;\">\n",
       "      <th></th>\n",
       "      <th>income_per_person</th>\n",
       "      <th>life_expectancy</th>\n",
       "      <th>child_mortality</th>\n",
       "    </tr>\n",
       "  </thead>\n",
       "  <tbody>\n",
       "    <tr>\n",
       "      <th>count</th>\n",
       "      <td>1078.000000</td>\n",
       "      <td>1078.000000</td>\n",
       "      <td>1078.000000</td>\n",
       "    </tr>\n",
       "    <tr>\n",
       "      <th>mean</th>\n",
       "      <td>21018.425788</td>\n",
       "      <td>72.743506</td>\n",
       "      <td>26.708720</td>\n",
       "    </tr>\n",
       "    <tr>\n",
       "      <th>std</th>\n",
       "      <td>22636.132400</td>\n",
       "      <td>5.678393</td>\n",
       "      <td>23.507055</td>\n",
       "    </tr>\n",
       "    <tr>\n",
       "      <th>min</th>\n",
       "      <td>563.000000</td>\n",
       "      <td>54.800000</td>\n",
       "      <td>1.880000</td>\n",
       "    </tr>\n",
       "    <tr>\n",
       "      <th>25%</th>\n",
       "      <td>4810.000000</td>\n",
       "      <td>68.925000</td>\n",
       "      <td>8.970000</td>\n",
       "    </tr>\n",
       "    <tr>\n",
       "      <th>50%</th>\n",
       "      <td>11250.000000</td>\n",
       "      <td>72.850000</td>\n",
       "      <td>19.300000</td>\n",
       "    </tr>\n",
       "    <tr>\n",
       "      <th>75%</th>\n",
       "      <td>33175.000000</td>\n",
       "      <td>76.675000</td>\n",
       "      <td>36.825000</td>\n",
       "    </tr>\n",
       "    <tr>\n",
       "      <th>max</th>\n",
       "      <td>99100.000000</td>\n",
       "      <td>85.300000</td>\n",
       "      <td>125.000000</td>\n",
       "    </tr>\n",
       "  </tbody>\n",
       "</table>\n",
       "</div>"
      ],
      "text/plain": [
       "       income_per_person  life_expectancy  child_mortality\n",
       "count        1078.000000      1078.000000      1078.000000\n",
       "mean        21018.425788        72.743506        26.708720\n",
       "std         22636.132400         5.678393        23.507055\n",
       "min           563.000000        54.800000         1.880000\n",
       "25%          4810.000000        68.925000         8.970000\n",
       "50%         11250.000000        72.850000        19.300000\n",
       "75%         33175.000000        76.675000        36.825000\n",
       "max         99100.000000        85.300000       125.000000"
      ]
     },
     "execution_count": 59,
     "metadata": {},
     "output_type": "execute_result"
    }
   ],
   "source": [
    "df_main[df_main['continent'] == 'Asia'].describe()"
   ]
  },
  {
   "cell_type": "markdown",
   "metadata": {},
   "source": [
    "**Observation**\n",
    "- There are 49 Asian countires in this data\n",
    "- The highest income per person in Asia is 99,100 dollars.\n",
    "- The highest life expectancy in Asia approx. 85 years.\n",
    "- The highest child mortality in Asia approx 125 death under 5 years per 1000 born.\n",
    "- The average income_per_person is approx. 21,018 dollars.\n",
    "- The average life expectancy in Asia is approx. 73 years.\n",
    "- The average child mortality rate is 27 death under 5 years per 1000 born."
   ]
  },
  {
   "cell_type": "code",
   "execution_count": 60,
   "metadata": {},
   "outputs": [
    {
     "data": {
      "text/plain": [
       "country               14\n",
       "year                  22\n",
       "income_per_person    243\n",
       "life_expectancy      153\n",
       "child_mortality      239\n",
       "continent              1\n",
       "dtype: int64"
      ]
     },
     "execution_count": 60,
     "metadata": {},
     "output_type": "execute_result"
    }
   ],
   "source": [
    "#Number of Oceanian countries in the dataset\n",
    "df_main[df_main['continent'] == 'Oceania'].nunique()"
   ]
  },
  {
   "cell_type": "code",
   "execution_count": 61,
   "metadata": {},
   "outputs": [
    {
     "data": {
      "text/html": [
       "<div>\n",
       "<style scoped>\n",
       "    .dataframe tbody tr th:only-of-type {\n",
       "        vertical-align: middle;\n",
       "    }\n",
       "\n",
       "    .dataframe tbody tr th {\n",
       "        vertical-align: top;\n",
       "    }\n",
       "\n",
       "    .dataframe thead th {\n",
       "        text-align: right;\n",
       "    }\n",
       "</style>\n",
       "<table border=\"1\" class=\"dataframe\">\n",
       "  <thead>\n",
       "    <tr style=\"text-align: right;\">\n",
       "      <th></th>\n",
       "      <th>income_per_person</th>\n",
       "      <th>life_expectancy</th>\n",
       "      <th>child_mortality</th>\n",
       "    </tr>\n",
       "  </thead>\n",
       "  <tbody>\n",
       "    <tr>\n",
       "      <th>count</th>\n",
       "      <td>308.000000</td>\n",
       "      <td>308.000000</td>\n",
       "      <td>308.000000</td>\n",
       "    </tr>\n",
       "    <tr>\n",
       "      <th>mean</th>\n",
       "      <td>11030.000000</td>\n",
       "      <td>67.341398</td>\n",
       "      <td>28.763929</td>\n",
       "    </tr>\n",
       "    <tr>\n",
       "      <th>std</th>\n",
       "      <td>13540.473195</td>\n",
       "      <td>7.030664</td>\n",
       "      <td>16.313179</td>\n",
       "    </tr>\n",
       "    <tr>\n",
       "      <th>min</th>\n",
       "      <td>1910.000000</td>\n",
       "      <td>56.700000</td>\n",
       "      <td>3.330000</td>\n",
       "    </tr>\n",
       "    <tr>\n",
       "      <th>25%</th>\n",
       "      <td>3277.500000</td>\n",
       "      <td>63.100000</td>\n",
       "      <td>17.500000</td>\n",
       "    </tr>\n",
       "    <tr>\n",
       "      <th>50%</th>\n",
       "      <td>4555.000000</td>\n",
       "      <td>66.050000</td>\n",
       "      <td>26.550000</td>\n",
       "    </tr>\n",
       "    <tr>\n",
       "      <th>75%</th>\n",
       "      <td>11400.000000</td>\n",
       "      <td>70.745883</td>\n",
       "      <td>38.625000</td>\n",
       "    </tr>\n",
       "    <tr>\n",
       "      <th>max</th>\n",
       "      <td>51100.000000</td>\n",
       "      <td>83.300000</td>\n",
       "      <td>71.000000</td>\n",
       "    </tr>\n",
       "  </tbody>\n",
       "</table>\n",
       "</div>"
      ],
      "text/plain": [
       "       income_per_person  life_expectancy  child_mortality\n",
       "count         308.000000       308.000000       308.000000\n",
       "mean        11030.000000        67.341398        28.763929\n",
       "std         13540.473195         7.030664        16.313179\n",
       "min          1910.000000        56.700000         3.330000\n",
       "25%          3277.500000        63.100000        17.500000\n",
       "50%          4555.000000        66.050000        26.550000\n",
       "75%         11400.000000        70.745883        38.625000\n",
       "max         51100.000000        83.300000        71.000000"
      ]
     },
     "execution_count": 61,
     "metadata": {},
     "output_type": "execute_result"
    }
   ],
   "source": [
    "df_main[df_main['continent'] == 'Oceania'].describe()"
   ]
  },
  {
   "cell_type": "markdown",
   "metadata": {},
   "source": [
    "**Observation**\n",
    "- There are 14 Oceanian countires in this data\n",
    "- The highest income per person in Oceania is 51,100 dollars.\n",
    "- The highest life expectancy in Oceania approx. 83 years.\n",
    "- The highest child mortality in Oceania approx 71 death under 5 years per 1000 born.\n",
    "- The average income_per_personin Oceania is approx. 11,030 dollars.\n",
    "- The average life expectancy in Oceania is approx. 67 years.\n",
    "- The average child mortality rate is approx. 29 death under 5 years per 1000 born."
   ]
  },
  {
   "cell_type": "markdown",
   "metadata": {},
   "source": [
    "## Data Visualization \n",
    "   **Univariate analysis**\n",
    "   - Distribution of life expectancy\n",
    "   - Distribution of income per person\n",
    "   - Distribution of child mortality"
   ]
  },
  {
   "cell_type": "code",
   "execution_count": 62,
   "metadata": {},
   "outputs": [
    {
     "data": {
      "image/png": "[encoded data removed]",
      "text/plain": [
       "<Figure size 576x504 with 1 Axes>"
      ]
     },
     "metadata": {
      "needs_background": "light"
     },
     "output_type": "display_data"
    }
   ],
   "source": [
    "#checking the distribution of life expectancy \n",
    "plt.title('Distribution of life expectancy')\n",
    "df_main.life_expectancy.plot(kind='hist',figsize=(8,7),color='#00AEDB');"
   ]
  },
  {
   "cell_type": "code",
   "execution_count": 63,
   "metadata": {},
   "outputs": [
    {
     "data": {
      "image/png": "[encoded data removed]",
      "text/plain": [
       "<Figure size 576x504 with 1 Axes>"
      ]
     },
     "metadata": {
      "needs_background": "light"
     },
     "output_type": "display_data"
    }
   ],
   "source": [
    "#checking the distribution of income per person\n",
    "plt.title('Distribution of Income per person')\n",
    "df_main.income_per_person.plot(kind='hist',figsize=(8,7),color='#00AECC');"
   ]
  },
  {
   "cell_type": "code",
   "execution_count": 64,
   "metadata": {},
   "outputs": [
    {
     "data": {
      "image/png": "[encoded data removed]",
      "text/plain": [
       "<Figure size 576x504 with 1 Axes>"
      ]
     },
     "metadata": {
      "needs_background": "light"
     },
     "output_type": "display_data"
    }
   ],
   "source": [
    "#checking the distribution of child mortality\n",
    "plt.title('Distribution of child mortality')\n",
    "df_main.child_mortality.plot(kind='hist',figsize=(8,7),color='#00AEBE');"
   ]
  },
  {
   "cell_type": "code",
   "execution_count": 65,
   "metadata": {},
   "outputs": [
    {
     "data": {
      "image/png": "[encoded data removed]",
      "text/plain": [
       "<Figure size 576x504 with 1 Axes>"
      ]
     },
     "metadata": {
      "needs_background": "light"
     },
     "output_type": "display_data"
    }
   ],
   "source": [
    "#plot life expectancy of each continent\n",
    "plt.figure(figsize=(8,7))\n",
    "plt.title(\"Life expectancy per Continent\",fontsize=15)\n",
    "df_main.groupby('continent')['life_expectancy'].sum().plot(kind='bar',color=\"#00AFAF\");"
   ]
  },
  {
   "cell_type": "markdown",
   "metadata": {},
   "source": [
    "**Bivariate Analysis**\n",
    "- Income per person by continent\n",
    "- Life expectancy by continent\n",
    "- Child mortality by continent"
   ]
  },
  {
   "cell_type": "code",
   "execution_count": 66,
   "metadata": {},
   "outputs": [
    {
     "data": {
      "image/png": "[encoded data removed]",
      "text/plain": [
       "<Figure size 576x504 with 1 Axes>"
      ]
     },
     "metadata": {
      "needs_background": "light"
     },
     "output_type": "display_data"
    }
   ],
   "source": [
    "#plotting income per person by continent\n",
    "plt.figure(figsize=(8,7))\n",
    "plt.title(\"Income per person by Continent\",fontsize=15)\n",
    "df_main.groupby('continent')['income_per_person'].sum().plot(kind='bar',color=\"#00AFA1\");"
   ]
  },
  {
   "cell_type": "code",
   "execution_count": 67,
   "metadata": {},
   "outputs": [
    {
     "data": {
      "image/png": "[encoded data removed]",
      "text/plain": [
       "<Figure size 576x504 with 1 Axes>"
      ]
     },
     "metadata": {
      "needs_background": "light"
     },
     "output_type": "display_data"
    }
   ],
   "source": [
    "#plotting child mortality per continent\n",
    "plt.figure(figsize=(8,7))\n",
    "plt.title(\"Child mortality per Continent\",fontsize=16)\n",
    "df_main.groupby('continent')['child_mortality'].sum().plot(kind='bar',color=\"#00AEBE\");"
   ]
  },
  {
   "cell_type": "markdown",
   "metadata": {},
   "source": [
    "**Observation**\n",
    "- From the life expectancy by continent chart, Asia has the highest life expectancy rate with South America having the lowest\n",
    "- From the Income per person by continent chart, Europe has the highest income per person with Ocienia having the lowest.\n",
    "- From the child mortality by continent chart, Africa has the highest child mortality rate with Europe and South America having the least."
   ]
  },
  {
   "cell_type": "markdown",
   "metadata": {},
   "source": [
    ">**The following line graph looks at the trend of each indicator over 22 years that is from 2001 to 2022 for each of the continents**.\n",
    "This analysis looks at how the indicators namely life expectancy,income per person and child mortality changes over the years for each continent.\n",
    "\n",
    "> **Multivariate Analysis**\n",
    " >- life expectancy from 2001 to 2022 for each continent\n",
    " >- Income per person from 2001 to 2022 for each continent\n",
    " >- Child mortality from 2001 to 2022 for each continent"
   ]
  },
  {
   "cell_type": "code",
   "execution_count": 68,
   "metadata": {},
   "outputs": [
    {
     "data": {
      "image/png": "[encoded data removed]",
      "text/plain": [
       "<Figure size 1008x756 with 6 Axes>"
      ]
     },
     "metadata": {
      "needs_background": "light"
     },
     "output_type": "display_data"
    }
   ],
   "source": [
    "#graphing the trend for life expectancy over 22 years for each continent\n",
    "graph = sns.FacetGrid(df_main, col=\"continent\",col_wrap=2, height =3.5, aspect=2)\n",
    "graph.map(sns.lineplot, \"year\", \"life_expectancy\")\n",
    "plt.show()"
   ]
  },
  {
   "cell_type": "code",
   "execution_count": 69,
   "metadata": {},
   "outputs": [
    {
     "data": {
      "image/png": "[encoded data removed]",
      "text/plain": [
       "<Figure size 1008x756 with 6 Axes>"
      ]
     },
     "metadata": {
      "needs_background": "light"
     },
     "output_type": "display_data"
    }
   ],
   "source": [
    "#graphing the trend for income per person over 22 years for each continent\n",
    "graph = sns.FacetGrid(df_main, col=\"continent\",col_wrap=2, height =3.5, aspect=2)\n",
    "graph.map(sns.lineplot, \"year\", \"income_per_person\")\n",
    "plt.show()"
   ]
  },
  {
   "cell_type": "code",
   "execution_count": 70,
   "metadata": {},
   "outputs": [
    {
     "data": {
      "image/png": "[encoded data removed]",
      "text/plain": [
       "<Figure size 1008x756 with 6 Axes>"
      ]
     },
     "metadata": {
      "needs_background": "light"
     },
     "output_type": "display_data"
    }
   ],
   "source": [
    "#graphing the trend for child mortality over 22 years that is from 2001 o 2022 for each continents\n",
    "graph = sns.FacetGrid(df_main, col=\"continent\",col_wrap=2, height =3.5, aspect=2)\n",
    "graph.map(sns.lineplot, \"year\", \"child_mortality\")\n",
    "plt.show()"
   ]
  },
  {
   "cell_type": "markdown",
   "metadata": {},
   "source": [
    "**Relationships between the 3 indicators**\n",
    "- Income per person and life expectancy\n",
    "- Income per person and child mortality \n",
    "- life expectancy and child mortality "
   ]
  },
  {
   "cell_type": "code",
   "execution_count": 71,
   "metadata": {},
   "outputs": [
    {
     "data": {
      "image/png": "[encoded data removed]",
      "text/plain": [
       "<Figure size 432x288 with 1 Axes>"
      ]
     },
     "metadata": {
      "needs_background": "light"
     },
     "output_type": "display_data"
    }
   ],
   "source": [
    "# is there a relationship between income and life expectancy?\n",
    "df_main.plot(x='income_per_person',y='life_expectancy',kind='scatter',color='#00AF92').set(title='Relationship between income and life expextancy');"
   ]
  },
  {
   "cell_type": "code",
   "execution_count": 72,
   "metadata": {},
   "outputs": [
    {
     "data": {
      "image/png": "[encoded data removed]",
      "text/plain": [
       "<Figure size 432x288 with 1 Axes>"
      ]
     },
     "metadata": {
      "needs_background": "light"
     },
     "output_type": "display_data"
    }
   ],
   "source": [
    "#is there a relationship between income and child mortality?\n",
    "df_main.plot(x='income_per_person',y='child_mortality',kind='scatter',color='#00B084').set(title='Relationship between income and child mortality');"
   ]
  },
  {
   "cell_type": "code",
   "execution_count": 73,
   "metadata": {},
   "outputs": [
    {
     "data": {
      "image/png": "[encoded data removed]",
      "text/plain": [
       "<Figure size 432x288 with 1 Axes>"
      ]
     },
     "metadata": {
      "needs_background": "light"
     },
     "output_type": "display_data"
    }
   ],
   "source": [
    "#is there a relation between child mortality and life expectancy?\n",
    "df_main.plot(x='child_mortality',y='life_expectancy',kind='scatter',color='#00AF92').set(title='Relationship between child mortality and life expextancy');"
   ]
  },
  {
   "cell_type": "markdown",
   "metadata": {},
   "source": [
    "**Observation**\n",
    "- There is a positive correlation between income and life expectancy but it does not imply causation.\n",
    "- There is a non linear association between income per person and child mortality.\n",
    "- There is a negative correlation between life expectancy and child mortality."
   ]
  },
  {
   "cell_type": "markdown",
   "metadata": {},
   "source": [
    "<a id='conclusions'></a>\n",
    "## Conclusions\n",
    "\n",
    ">- Asia has the highest life expectancy rate with South America having the lowest\n",
    ">- Europe has the highest income per person with Ocienia having the lowest.\n",
    ">- Africa has the highest child mortality rate with Europe and South America having the least.\n",
    ">- Life expectancy for Africa has been increasing gradually since 2001,which is the year with the least life expectancy.\n",
    ">- Child mortality for Africa has dropped since 2001 which is the year with the highest chid mortality rate.\n",
    ">- The average income per person for Africa has remained below 10000 dollars.\n",
    ">- Child mortality rate has been gradually decreasing for all continents over the 22 years.\n",
    ">- All continents experienced a drop in income per person in 2020.\n",
    ">- Asia, Europe, South and North America experienced a drop in life expectancy in the year 2020.\n",
    "\n",
    "\n",
    "### Limitations\n",
    " >- The Exploration does not look at countries individually , therefore statstical values for the various continents may not  represent some their respective countries. \n",
    ">- The exploration does not also look at the years individually to find statstical values for continents in each year \n",
    "\n",
    "\n"
   ]
  },
  {
   "cell_type": "markdown",
   "metadata": {},
   "source": [
    "Reference\n",
    "- Matplotlib documentation\n",
    "- Stack overflow\n",
    "- Seaborn documentation\n",
    "- geeksforgeeks.org"
   ]
  },
  {
   "cell_type": "code",
   "execution_count": null,
   "metadata": {},
   "outputs": [],
   "source": []
  }
 ],
 "metadata": {
  "kernelspec": {
   "display_name": "Python 3",
   "language": "python",
   "name": "python3"
  },
  "language_info": {
   "codemirror_mode": {
    "name": "ipython",
    "version": 3
   },
   "file_extension": ".py",
   "mimetype": "text/x-python",
   "name": "python",
   "nbconvert_exporter": "python",
   "pygments_lexer": "ipython3",
   "version": "3.8.8"
  }
 },
 "nbformat": 4,
 "nbformat_minor": 2
}
